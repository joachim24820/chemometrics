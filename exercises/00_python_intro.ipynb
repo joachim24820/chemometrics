{
 "cells": [
  {
   "cell_type": "markdown",
   "id": "9107b2bc",
   "metadata": {},
   "source": [
    "# Exercise set 0\n",
    "\n",
    "This exercise set contains some short Python exercises. Parts 1 to 3 can be a bit boring(?), and you can\n",
    "skip this if you are familiar with Python and NumPy. If you are unfamiliar with plotting, it might be easier\n",
    "to do part 5 before part 4.\n",
    "\n",
    "- [Part 1: Python basics](#Part-1:-Python-basics)\n",
    "- [Part 2: Text and some math](#Part-2:-Text-and-some-math)\n",
    "- [Part 3: NumPy basics](#Part-3:-NumPy-basics)\n",
    "- [Part 4: Reading data and plotting](#Part-4:-Reading-data-and-plotting)\n",
    "- [Part 5: A short introduction to Pandas, NumPy, and Matplotlib](#Part-5:-A-short-introduction-to-Pandas,-NumPy,-and-Matplotlib)\n",
    "- [Part 6: Using pandas on penguins](#Part-6:-Using-pandas-on-penguins)"
   ]
  },
  {
   "cell_type": "markdown",
   "id": "c54def27",
   "metadata": {},
   "source": [
    "## Part 1: Python basics"
   ]
  },
  {
   "cell_type": "code",
   "execution_count": null,
   "id": "2c66d838",
   "metadata": {},
   "outputs": [],
   "source": [
    "# 1. Write a code that prints \"Hello world!\":"
   ]
  },
  {
   "cell_type": "code",
   "execution_count": 1,
   "id": "a72ae8b4",
   "metadata": {},
   "outputs": [
    {
     "name": "stdout",
     "output_type": "stream",
     "text": [
      "Hello world!\n",
      "Hello world!\n",
      "Hello world!\n",
      "Hello world!\n",
      "Hello world!\n",
      "Hello world!\n",
      "Hello world!\n",
      "Hello world!\n",
      "Hello world!\n",
      "Hello world!\n"
     ]
    }
   ],
   "source": [
    "# 2. Write a code that prints out \"Hello world!\" 10 times using a for loop:\n",
    "\n",
    "for i in range(10):\n",
    "    print(\"Hello world!\")"
   ]
  },
  {
   "cell_type": "code",
   "execution_count": null,
   "id": "1cd4318d",
   "metadata": {},
   "outputs": [],
   "source": [
    "# 3. Write a code that prints out \"Hello world!\" 10 times using a for loop plus the iteration number.\n",
    "# That is, your code should print out:\n",
    "# \"Hello world! 0\"\n",
    "# \"Hello world! 1\"\n",
    "# \"Hello world! 2\"\n",
    "# and so on ...:"
   ]
  },
  {
   "cell_type": "code",
   "execution_count": null,
   "id": "a6366d91",
   "metadata": {},
   "outputs": [],
   "source": [
    "# 4.1 Make a list containing the numbers 1, 6, and 5:\n",
    "\n",
    "# 4.2 Append the number 2 to this list:\n",
    "\n",
    "# 4.3 Print out the length of the list (Hint: make use of the len() method):\n",
    "\n",
    "# 4.4 Sort the list (from small to large):"
   ]
  },
  {
   "cell_type": "code",
   "execution_count": null,
   "id": "b88e08dc",
   "metadata": {},
   "outputs": [],
   "source": [
    "# 5. Consider the following list:\n",
    "\n",
    "lst = [1, 1, 1, 3, 2, 1, 3, 3, 3, 2, 2, 2, 4]\n",
    "\n",
    "# 5.1 Access the first item in the list, print it, and change it to 14:\n",
    "\n",
    "# 5.2 Create a new list, containing just the 4 first elements from \"lst\":\n",
    "\n",
    "# 5.3 Create a new list containing the 4 last elements from \"lst\":\n",
    "\n",
    "# 5.4 Create a new list containing every second element from \"lst\":\n",
    "\n",
    "# 5.5 Create a new list containing the elements from \"lst\", but in reversed order:"
   ]
  },
  {
   "cell_type": "code",
   "execution_count": null,
   "id": "2e195d9d",
   "metadata": {},
   "outputs": [],
   "source": [
    "# 6. Make a list containing the numbers from 11 to (and including) 20 (that is 11, 12, ..., 20)\n",
    "# using a for loop:"
   ]
  },
  {
   "cell_type": "code",
   "execution_count": null,
   "id": "ab1f4d19",
   "metadata": {},
   "outputs": [],
   "source": [
    "# 7. Write a code that determines if a number is greater than 100 using an if statement:"
   ]
  },
  {
   "cell_type": "code",
   "execution_count": null,
   "id": "f261906d",
   "metadata": {},
   "outputs": [],
   "source": [
    "# 8. Write a method that determines if a number is greater than 100 using an if statement.\n",
    "# The method should take in a single number and return the string \"yes\"\n",
    "# if the number is greater than 100 and the string \"no\" otherwise.\n",
    "# Add some documentation that explains briefly what the method does.\n",
    "# Here is an example of what this documentation could look like:\n",
    "\n",
    "\n",
    "def is_even(x):\n",
    "    \"\"\"Determine if x is an even number.\"\"\"\n",
    "    return x % 2"
   ]
  },
  {
   "cell_type": "code",
   "execution_count": null,
   "id": "f3f9f87d",
   "metadata": {},
   "outputs": [],
   "source": [
    "# 9. Apply the method you just created to the numbers in the following list:\n",
    "\n",
    "lst = [1, 10, 99, 100, 101, 1000]\n",
    "\n",
    "# and store the results (\"yes\"/\"no\") in a new list. Count the number of \"yes\" items and \"no\" items in this list:"
   ]
  },
  {
   "cell_type": "code",
   "execution_count": null,
   "id": "f4e30d9d",
   "metadata": {},
   "outputs": [],
   "source": [
    "# 10. Consider the following list:\n",
    "\n",
    "lst = [1, 1, 1, 3, 2, 1, 3, 3, 3, 2, 2, 2, 4]\n",
    "\n",
    "# How many unique elements are there in this list - and what are they?\n",
    "# (Hint: consider converting the list to a Python set)"
   ]
  },
  {
   "cell_type": "code",
   "execution_count": null,
   "id": "9f0280d5",
   "metadata": {},
   "outputs": [],
   "source": [
    "# 11. Consider the following dictionary with names of some animals:\n",
    "\n",
    "my_dict = {\n",
    "    \"cat\": [\"Luna\", \"Simba\", \"Prince Tigerius Mahmoud Shabazz\"],\n",
    "    \"dog\": [\"Rex\", \"Rudy\", \"Milo\", \"Lassie\"],\n",
    "}\n",
    "\n",
    "# 11.1 Loop over this dictionary and print out the type of animal and the corresponding names:\n",
    "\n",
    "# 11.2 Add some names for otters:\n",
    "\n",
    "# 11.3 Add a cat name and a dog name, and print out the number of names stored in the dictionary for\n",
    "# each animal:"
   ]
  },
  {
   "cell_type": "code",
   "execution_count": null,
   "id": "27cb3c65",
   "metadata": {},
   "outputs": [],
   "source": [
    "# 12. Consider the following dictionary:\n",
    "\n",
    "yes_no = {\"yes\": [], \"no\": []}\n",
    "\n",
    "# Use your method for determining if a number is greater than 100 on the items in the\n",
    "# following list:\n",
    "\n",
    "lst = [1, 10, 99, 100, 101, 1000]\n",
    "\n",
    "# and:\n",
    "# - add the \"yes\" numbers to the \"yes\" list in the dictionary,\n",
    "# - add the \"no\" numbers to the \"no\" list in the dictionary:"
   ]
  },
  {
   "cell_type": "markdown",
   "id": "487883fe",
   "metadata": {},
   "source": [
    "## Part 2: Text and some math"
   ]
  },
  {
   "cell_type": "code",
   "execution_count": null,
   "id": "079135ec",
   "metadata": {},
   "outputs": [],
   "source": [
    "# 1. We have the following variable:\n",
    "\n",
    "text = \"everyone\"\n",
    "\n",
    "# and the following print statement:\n",
    "\n",
    "print(\"Good news, !\")\n",
    "\n",
    "# Modify this print statement (using a Python f-string) so that it prints out\n",
    "# Good news, everyone!\n",
    "# that is, modify it so that it inserts the value in the variable \"text\" after the \",\"."
   ]
  },
  {
   "cell_type": "code",
   "execution_count": null,
   "id": "2f28e556",
   "metadata": {},
   "outputs": [],
   "source": [
    "# 2. We are printing out the result of a calculation:\n",
    "\n",
    "result = 1.2288767781234\n",
    "\n",
    "print(f\"The number is {result}\")\n",
    "\n",
    "# modify the print statement above so that we print out just two digits after the decimal sign."
   ]
  },
  {
   "cell_type": "code",
   "execution_count": null,
   "id": "5379e71c",
   "metadata": {},
   "outputs": [],
   "source": [
    "# 3. Consider the following string:\n",
    "\n",
    "text = \"The value you are looking for is: 1234.567 millidooms\"\n",
    "\n",
    "# extract the number 1234.567 from this string using the \"split()\" method of strings"
   ]
  },
  {
   "cell_type": "code",
   "execution_count": null,
   "id": "f240f9eb",
   "metadata": {},
   "outputs": [],
   "source": [
    "# 4. Consider the following string:\n",
    "\n",
    "text = \"NIR.920 nm\"\n",
    "\n",
    "# This string contains a wavelength (920) in units of nanometers (nm).\n",
    "# Extract the number 920 from this string, convert it to a number,\n",
    "# and store it in a new variable:"
   ]
  },
  {
   "cell_type": "code",
   "execution_count": null,
   "id": "5744e2a8",
   "metadata": {},
   "outputs": [],
   "source": [
    "# 5. Consider the following list of strings that contains wavelengths (similar to the string above):\n",
    "\n",
    "lst = [\"NIR.900 nm\", \"NIR.902 nm\", \"NIR.905 nm\", \"NIR.920 nm\"]\n",
    "\n",
    "# Extract the wavelengths (900, 902, 905, 920) from this list and store them in a\n",
    "# new list (containing just the numbers)."
   ]
  },
  {
   "cell_type": "code",
   "execution_count": null,
   "id": "973926d3",
   "metadata": {},
   "outputs": [],
   "source": [
    "# 6. Consider the following list of numbers:\n",
    "\n",
    "x = [1, 2, 4, 16]\n",
    "\n",
    "# 6.1. Calculate the exponential of these numbers (exp(x)) and store that in a new variable y.\n",
    "\n",
    "# 6.2. Calculate the natural logarithm of the values in y.\n",
    "\n",
    "# Hint: This can be solved by importing relevant functions from the math library or the NumPy library."
   ]
  },
  {
   "cell_type": "code",
   "execution_count": null,
   "id": "cc1d289f",
   "metadata": {},
   "outputs": [],
   "source": [
    "# 7. Consider these two snippets of code:\n",
    "\n",
    "# Code 1:\n",
    "x = []\n",
    "for i in range(1, 8):\n",
    "    if i % 2 == 0:\n",
    "        x.append(f\"{i}: even\")\n",
    "    else:\n",
    "        x.append(f\"{i}: odd\")\n",
    "\n",
    "# Code 2:\n",
    "x = [f\"{i}: even\" if i % 2 == 0 else f\"{i}: odd\" for i in range(1, 8)]\n",
    "\n",
    "# 7.1. Is the result of Code 1 and Code 2 different?\n",
    "\n",
    "# 7.2. The syntax we use for creating the list in Code 2 is given a special name in Python.\n",
    "# What do we call this?"
   ]
  },
  {
   "cell_type": "code",
   "execution_count": null,
   "id": "5cc0cc72",
   "metadata": {},
   "outputs": [],
   "source": [
    "# 8. Consider the following list:\n",
    "\n",
    "lst = [1, 2, 3, 4, 5, 6]\n",
    "\n",
    "# 8.1. Create a new list that contains the squared of each number in \"lst\":\n",
    "\n",
    "# 8.2. Create a new list that contains the numbers in \"lst\" (each one) divided by 3:"
   ]
  },
  {
   "cell_type": "markdown",
   "id": "45d6f988",
   "metadata": {},
   "source": [
    "## Part 3: NumPy basics"
   ]
  },
  {
   "cell_type": "code",
   "execution_count": null,
   "id": "ea96481b",
   "metadata": {},
   "outputs": [],
   "source": [
    "# 1. Consider the following array of numbers:\n",
    "import numpy as np\n",
    "\n",
    "number = np.array([1, 5, 6, 2, 2, 2, 6, 9, 101, 55, -1])\n",
    "\n",
    "# 1.1 Find the minimum and maximum numbers in this array:\n",
    "\n",
    "# 1.2 Find the mean of all the numbers in this array:\n",
    "\n",
    "# 1.3 Find the standard deviation of the numbers in this array:\n",
    "\n",
    "# Hint: You can solve all these by using methods of the \"number\" array (e.g., \"number.min()\"),\n",
    "# or methods from NumPy."
   ]
  },
  {
   "cell_type": "code",
   "execution_count": null,
   "id": "7fc0bbf8",
   "metadata": {},
   "outputs": [],
   "source": [
    "# 2. For the dissolution of a weak acid in water, we have the following equilibrium\n",
    "# constant:\n",
    "#\n",
    "# Ka = [H+] * [A-] / [HA] = 1e-5\n",
    "#\n",
    "# Assuming that the initial concentration of [HA] is 0.1 we can turn this into the\n",
    "# following equation for the equilibrium concentrations:\n",
    "#\n",
    "# Ka = 1e-5 = x*x / (0.1 - x)\n",
    "#\n",
    "# Solve this equation for the unknown x which is the concentration of H+ ([H+]) and calculate\n",
    "# the pH at equilibrium (pH = -log [H+]):\n",
    "#\n",
    "# Some hints:\n",
    "#\n",
    "# a) The log can be taken using the function log 10 from NumPy:\n",
    "import numpy as np\n",
    "\n",
    "print(\"log10 of 100\", np.log10(100))\n",
    "#\n",
    "# b) You can find the roots of a polynomial using the NumPy method \"roots\" or the\n",
    "# more general \"fsolve\" method from scipy\n",
    "# Example with roots: Let us say we are looking for the roots of -3 * x² + 2x + 1 = 0\n",
    "# then we can find the roots by giving the roots method the coefficients of the polynomial:\n",
    "p = [-3, 2, 1]\n",
    "print(\"Roots of -3*x² + 2x + 1 = 0:\", np.roots(p))"
   ]
  },
  {
   "cell_type": "code",
   "execution_count": 11,
   "id": "e9d06006",
   "metadata": {},
   "outputs": [
    {
     "name": "stdout",
     "output_type": "stream",
     "text": [
      "[  6   6   9 101  55]\n"
     ]
    }
   ],
   "source": [
    "# 3. Consider the following array of numbers:\n",
    "import numpy as np\n",
    "\n",
    "number = np.array([1, 5, 6, 2, 2, 2, 6, 9, 101, 55, -1])\n",
    "\n",
    "# Make a new list with the numbers from this array that are greater than 5. Do this without using a for loop.\n",
    "# Hint: https://python-course.eu/numerical-programming/numpy-boolean-indexing.php\n",
    "\n",
    "temp = number[number>5]\n",
    "print(temp)"
   ]
  },
  {
   "cell_type": "code",
   "execution_count": 25,
   "id": "2c6f2298",
   "metadata": {},
   "outputs": [
    {
     "name": "stdout",
     "output_type": "stream",
     "text": [
      "[ 1.   1.5  2.   2.5  3.   3.5  4.   4.5  5.   5.5  6.   6.5  7.   7.5\n",
      "  8.   8.5  9.   9.5 10. ]\n"
     ]
    }
   ],
   "source": [
    "# 4. Create a NumPy array containing numbers from 1 to (and including) 10 in steps of 0.5:\n",
    "# Hint use \"arange()\" from NumPy\n",
    "\n",
    "oneToFive = np.arange(1,10.5, 0.5)\n",
    "print(oneToFive)"
   ]
  },
  {
   "cell_type": "code",
   "execution_count": 16,
   "id": "83bea570",
   "metadata": {},
   "outputs": [
    {
     "name": "stdout",
     "output_type": "stream",
     "text": [
      "[ 1.          1.09090909  1.18181818  1.27272727  1.36363636  1.45454545\n",
      "  1.54545455  1.63636364  1.72727273  1.81818182  1.90909091  2.\n",
      "  2.09090909  2.18181818  2.27272727  2.36363636  2.45454545  2.54545455\n",
      "  2.63636364  2.72727273  2.81818182  2.90909091  3.          3.09090909\n",
      "  3.18181818  3.27272727  3.36363636  3.45454545  3.54545455  3.63636364\n",
      "  3.72727273  3.81818182  3.90909091  4.          4.09090909  4.18181818\n",
      "  4.27272727  4.36363636  4.45454545  4.54545455  4.63636364  4.72727273\n",
      "  4.81818182  4.90909091  5.          5.09090909  5.18181818  5.27272727\n",
      "  5.36363636  5.45454545  5.54545455  5.63636364  5.72727273  5.81818182\n",
      "  5.90909091  6.          6.09090909  6.18181818  6.27272727  6.36363636\n",
      "  6.45454545  6.54545455  6.63636364  6.72727273  6.81818182  6.90909091\n",
      "  7.          7.09090909  7.18181818  7.27272727  7.36363636  7.45454545\n",
      "  7.54545455  7.63636364  7.72727273  7.81818182  7.90909091  8.\n",
      "  8.09090909  8.18181818  8.27272727  8.36363636  8.45454545  8.54545455\n",
      "  8.63636364  8.72727273  8.81818182  8.90909091  9.          9.09090909\n",
      "  9.18181818  9.27272727  9.36363636  9.45454545  9.54545455  9.63636364\n",
      "  9.72727273  9.81818182  9.90909091 10.        ]\n"
     ]
    }
   ],
   "source": [
    "# 5. Create a NumPy array containing 100 evenly spaced numbers between 1 and 10 (including 10):\n",
    "# Hint use \"linspace\" from NumPy\n",
    "\n",
    "linspace = np.linspace(1, 10, 100)\n",
    "print(linspace)"
   ]
  },
  {
   "cell_type": "code",
   "execution_count": 30,
   "id": "0cc67a5c",
   "metadata": {},
   "outputs": [
    {
     "name": "stdout",
     "output_type": "stream",
     "text": [
      "[-3.14159265 -3.07812614 -3.01465962 -2.9511931  -2.88772658]\n",
      "[-1.         -0.99798668 -0.99195481 -0.9819287  -0.9679487 ]\n",
      "[-1.22464680e-16 -6.34239197e-02 -1.26592454e-01 -1.89251244e-01\n",
      " -2.51147987e-01]\n"
     ]
    }
   ],
   "source": [
    "# 6. Create a numpy array containing 100 evenly spaced numbers between -π and +π and calculate the cosine and sine\n",
    "# of these values:\n",
    "\n",
    "pies = np.linspace(-np.pi, np.pi, 100)\n",
    "print(pies[:5])\n",
    "\n",
    "cosines = np.cos(pies)\n",
    "print(cosines[:5])\n",
    "\n",
    "sines = np.sin(pies)\n",
    "print(sines[:5])"
   ]
  },
  {
   "cell_type": "code",
   "execution_count": 38,
   "id": "70db5f4e",
   "metadata": {},
   "outputs": [
    {
     "data": {
      "text/plain": [
       "<matplotlib.legend.Legend at 0x1fc9ebb7bd0>"
      ]
     },
     "execution_count": 38,
     "metadata": {},
     "output_type": "execute_result"
    },
    {
     "data": {
      "image/png": "[encoded data removed]",
      "text/plain": [
       "<Figure size 640x480 with 1 Axes>"
      ]
     },
     "metadata": {},
     "output_type": "display_data"
    }
   ],
   "source": [
    "# 7. Plot the cosine and sine you just calculated as a function of the array you created\n",
    "# (the one with 100 evenly spaced numbers between -π and +π):\n",
    "\n",
    "# Hint: Use matplotlib for the plotting:\n",
    "from matplotlib import pyplot as plt\n",
    "\n",
    "xvals = pies\n",
    "ysin = sines\n",
    "ycos = cosines\n",
    "\n",
    "plt.plot(xvals, ysin,label = \"sines\")\n",
    "plt.plot(xvals, ycos, label = \"cosines\")\n",
    "plt.legend()\n",
    "\n"
   ]
  },
  {
   "cell_type": "markdown",
   "id": "019295b1",
   "metadata": {},
   "source": [
    "## Part 4: Reading data and plotting"
   ]
  },
  {
   "cell_type": "code",
   "execution_count": 65,
   "id": "a31b5f5e",
   "metadata": {},
   "outputs": [
    {
     "data": {
      "text/plain": [
       "<matplotlib.collections.PathCollection at 0x1fca283af10>"
      ]
     },
     "execution_count": 65,
     "metadata": {},
     "output_type": "execute_result"
    },
    {
     "data": {
      "image/png": "[encoded data removed]",
      "text/plain": [
       "<Figure size 640x480 with 1 Axes>"
      ]
     },
     "metadata": {},
     "output_type": "display_data"
    }
   ],
   "source": [
    "# 1. The file \"Data/somedata1.txt\" contains some numerical data in two columns.\n",
    "# The first column contains the x-values and the second the y-values.\n",
    "# Read this file and plot the x- and y-values in a scatter plot\n",
    "# Hint: Use np.loadtxt() or pandas.read_csv to read in the file.\n",
    "import pandas\n",
    "\n",
    "array = pandas.read_csv(\"Data/somedata1.txt\")\n",
    "array.head()\n",
    "\n",
    "xvals = array[\"x\"]\n",
    "yvals = array[\"y\"]\n",
    "\n",
    "plt.scatter(xvals, yvals)\n"
   ]
  },
  {
   "cell_type": "markdown",
   "id": "6e619d9d",
   "metadata": {},
   "source": [
    "If you want to have a look at the file, it is here: [./Data/somedata1.txt](./Data/somedata1.txt)"
   ]
  },
  {
   "cell_type": "code",
   "execution_count": 126,
   "id": "3dc2aa21",
   "metadata": {},
   "outputs": [
    {
     "data": {
      "text/plain": [
       "<matplotlib.collections.PathCollection at 0x1fca5f7df50>"
      ]
     },
     "execution_count": 126,
     "metadata": {},
     "output_type": "execute_result"
    },
    {
     "data": {
      "image/png": "[encoded data removed]",
      "text/plain": [
       "<Figure size 640x480 with 1 Axes>"
      ]
     },
     "metadata": {},
     "output_type": "display_data"
    }
   ],
   "source": [
    "# 2. The file \"Data/somedata2.txt\" contains the same data as \"somedata1.txt\", but it is stored differently.\n",
    "# Each line contains a pair of x- and y-values on the form:\n",
    "# x = 55.3846, y = 97.1795\n",
    "# Make a method that reads in this file and extracts the x- and y-values. Plot the x- and y-values\n",
    "# you extracted from \"somedata2.txt\" in a scatter plot:\n",
    "\n",
    "xvals = []\n",
    "yvals = []\n",
    "with open(\"Data/somedata2.txt\") as file:\n",
    "    for lines in file:\n",
    "        xvals.append(lines.split()[2].split(\",\")[0])\n",
    "        yvals.append(lines.split()[5].split(\",\")[0])\n",
    "\n",
    "plt.scatter(xvals, yvals)\n",
    "\n",
    "    \n",
    "\n"
   ]
  },
  {
   "cell_type": "markdown",
   "id": "3a5ed9fb",
   "metadata": {},
   "source": [
    "If you want to have a look at the file, it is here: [./Data/somedata2.txt](./Data/somedata2.txt)"
   ]
  },
  {
   "cell_type": "markdown",
   "id": "f96d9029",
   "metadata": {},
   "source": [
    "## Part 5: A short introduction to Pandas, NumPy, and Matplotlib\n",
    "\n",
    "This is a short introduction to using Pandas, NumPy, and Matplotlib. Here, we are going to load an Excel file containing a measured rate constant ($k$) at different temperatures ($T$). The temperature is in Kelvin and the rate constant has units of M$^{1/2}~\\text{s}$. The Excel file is located at [./Data/rate_constant.xlsx](./Data/rate_constant.xlsx).\n",
    "\n",
    "You may recall that we expect the rate constant to follow the [Arrhenius equation](https://en.wikipedia.org/wiki/Arrhenius_equation):\n",
    "\n",
    "\\begin{equation}\n",
    "k = A \\text{e}^{\\frac{-E_\\text{a}}{RT}}\n",
    "\\end{equation}\n",
    "\n",
    "where $A$ is a pre-exponential factor, $E_\\text{a}$ the activation energy, and $R = 8.3145$ J/K mol is the gas constant. According to this equation, we should have an exponential relation between $k$ and the (inverse) temperature. Or, if we take the natural logarithm of this equation,\n",
    "\n",
    "\\begin{equation}\n",
    "\\ln k = \\ln A -\\frac{E_\\text{a}}{RT}\n",
    "\\end{equation}\n",
    "\n",
    "we get a linear relationship between the logarithm of $k$ and the inverse temperature ($1/T$). We shall make some plots here to see if this is the case.\n",
    "\n",
    "For doing this we will use three Python libraries:\n",
    "* [Pandas](https://pandas.pydata.org/) for loading the raw data.\n",
    "* [NumPy](https://numpy.org/) for working with numerical arrays and mathematics.\n",
    "* [Matplotlib](https://matplotlib.org/) for plotting and making figures.\n",
    "\n",
    "We start by loading these libraries:"
   ]
  },
  {
   "cell_type": "code",
   "execution_count": 128,
   "id": "8f53f4f8",
   "metadata": {},
   "outputs": [],
   "source": [
    "import numpy as np\n",
    "import pandas as pd\n",
    "from matplotlib import pyplot as plt\n",
    "\n",
    "plt.style.use(\"fast\")\n",
    "%matplotlib inline\n",
    "%matplotlib notebook"
   ]
  },
  {
   "cell_type": "markdown",
   "id": "62f5611b",
   "metadata": {},
   "source": [
    "There are two extra lines in the code above:\n",
    "1. `plt.style.use(\"fast\")` which changes the style of the plots produced. There is a list of predefined styles in the [matplotlib documentation](https://matplotlib.org/stable/gallery/style_sheets/style_sheets_reference.html). Here, you can experiment with different styles, perhaps `ggplot` is more to your liking? You can also define your [own styles](https://matplotlib.org/stable/tutorials/introductory/customizing.html) or import styles that others have created. [Here is a collection of styles for scientific figures](https://github.com/garrettj403/SciencePlots) which may come in handy for your next nature paper.\n",
    "\n",
    "2. `%matplotlib notebook` which makes the plots interactive (so that we can zoom and pan).\n",
    "\n",
    "We will load the Excel file using Pandas. This will give us a Pandas [DataFrame](https://pandas.pydata.org/docs/reference/api/pandas.DataFrame.html), which is, to quote Pandas, a:\n",
    "\n",
    "> Two-dimensional, size-mutable, potentially heterogeneous tabular data.\n",
    "\n",
    "Essentially, it is a table containing the data. Let us load it and show the contents:"
   ]
  },
  {
   "cell_type": "code",
   "execution_count": 129,
   "id": "2204db76",
   "metadata": {},
   "outputs": [
    {
     "data": {
      "text/html": [
       "<div>\n",
       "<style scoped>\n",
       "    .dataframe tbody tr th:only-of-type {\n",
       "        vertical-align: middle;\n",
       "    }\n",
       "\n",
       "    .dataframe tbody tr th {\n",
       "        vertical-align: top;\n",
       "    }\n",
       "\n",
       "    .dataframe thead th {\n",
       "        text-align: right;\n",
       "    }\n",
       "</style>\n",
       "<table border=\"1\" class=\"dataframe\">\n",
       "  <thead>\n",
       "    <tr style=\"text-align: right;\">\n",
       "      <th></th>\n",
       "      <th>rate constant</th>\n",
       "      <th>temperature</th>\n",
       "    </tr>\n",
       "  </thead>\n",
       "  <tbody>\n",
       "    <tr>\n",
       "      <th>0</th>\n",
       "      <td>0.011</td>\n",
       "      <td>700</td>\n",
       "    </tr>\n",
       "    <tr>\n",
       "      <th>1</th>\n",
       "      <td>0.035</td>\n",
       "      <td>730</td>\n",
       "    </tr>\n",
       "    <tr>\n",
       "      <th>2</th>\n",
       "      <td>0.105</td>\n",
       "      <td>760</td>\n",
       "    </tr>\n",
       "    <tr>\n",
       "      <th>3</th>\n",
       "      <td>0.343</td>\n",
       "      <td>790</td>\n",
       "    </tr>\n",
       "    <tr>\n",
       "      <th>4</th>\n",
       "      <td>0.789</td>\n",
       "      <td>810</td>\n",
       "    </tr>\n",
       "  </tbody>\n",
       "</table>\n",
       "</div>"
      ],
      "text/plain": [
       "   rate constant  temperature\n",
       "0          0.011          700\n",
       "1          0.035          730\n",
       "2          0.105          760\n",
       "3          0.343          790\n",
       "4          0.789          810"
      ]
     },
     "execution_count": 129,
     "metadata": {},
     "output_type": "execute_result"
    }
   ],
   "source": [
    "data = pd.read_excel(\"Data/rate_constant.xlsx\")\n",
    "data"
   ]
  },
  {
   "cell_type": "markdown",
   "id": "881ab1c0",
   "metadata": {},
   "source": [
    "We see here, that we have two columns: `\"rate constant\"` and `\"temperature\"`. We can access the columns as follows:"
   ]
  },
  {
   "cell_type": "code",
   "execution_count": 130,
   "id": "4cf2d7b8",
   "metadata": {},
   "outputs": [
    {
     "data": {
      "text/plain": [
       "0    0.011\n",
       "1    0.035\n",
       "2    0.105\n",
       "3    0.343\n",
       "4    0.789\n",
       "Name: rate constant, dtype: float64"
      ]
     },
     "execution_count": 130,
     "metadata": {},
     "output_type": "execute_result"
    }
   ],
   "source": [
    "data[\"rate constant\"]"
   ]
  },
  {
   "cell_type": "code",
   "execution_count": 131,
   "id": "73705efe",
   "metadata": {},
   "outputs": [
    {
     "data": {
      "text/plain": [
       "0    700\n",
       "1    730\n",
       "2    760\n",
       "3    790\n",
       "4    810\n",
       "Name: temperature, dtype: int64"
      ]
     },
     "execution_count": 131,
     "metadata": {},
     "output_type": "execute_result"
    }
   ],
   "source": [
    "data[\"temperature\"]"
   ]
  },
  {
   "cell_type": "markdown",
   "id": "d083d071",
   "metadata": {},
   "source": [
    "The code above gives us a new Pandas DataFrame with a single column. If we are only interested in the actual values, we can get those in the following way:"
   ]
  },
  {
   "cell_type": "code",
   "execution_count": 132,
   "id": "e285d70f",
   "metadata": {},
   "outputs": [
    {
     "name": "stdout",
     "output_type": "stream",
     "text": [
      "[700 730 760 790 810] Type: <class 'numpy.ndarray'>\n"
     ]
    }
   ],
   "source": [
    "temperature = data[\"temperature\"].values\n",
    "print(temperature, \"Type:\", type(temperature))"
   ]
  },
  {
   "cell_type": "markdown",
   "id": "6670a16d",
   "metadata": {},
   "source": [
    "The code above returns the temperature as a NumPy array. This is handy since we then can do NumPy-type operations. For instance, we could check what the largest and smallest temperatures are:"
   ]
  },
  {
   "cell_type": "code",
   "execution_count": 133,
   "id": "05cdcba9",
   "metadata": {},
   "outputs": [
    {
     "name": "stdout",
     "output_type": "stream",
     "text": [
      "Largest temperature: 810\n",
      "Smallest temperature: 700\n"
     ]
    }
   ],
   "source": [
    "print(\"Largest temperature:\", temperature.max())\n",
    "print(\"Smallest temperature:\", temperature.min())"
   ]
  },
  {
   "cell_type": "markdown",
   "id": "a5da90de",
   "metadata": {},
   "source": [
    "Or, since we are probably going to use the inverse temperature, we can calculate that:"
   ]
  },
  {
   "cell_type": "code",
   "execution_count": 134,
   "id": "be3f575d",
   "metadata": {},
   "outputs": [
    {
     "name": "stdout",
     "output_type": "stream",
     "text": [
      "[0.00142857 0.00136986 0.00131579 0.00126582 0.00123457]\n"
     ]
    }
   ],
   "source": [
    "inverse_temperature = 1.0 / temperature\n",
    "print(inverse_temperature)"
   ]
  },
  {
   "cell_type": "markdown",
   "id": "e20c06f3",
   "metadata": {},
   "source": [
    "We can add the inverse temperature to our original data table by doing:"
   ]
  },
  {
   "cell_type": "code",
   "execution_count": 135,
   "id": "f1b926e1",
   "metadata": {},
   "outputs": [
    {
     "data": {
      "text/html": [
       "<div>\n",
       "<style scoped>\n",
       "    .dataframe tbody tr th:only-of-type {\n",
       "        vertical-align: middle;\n",
       "    }\n",
       "\n",
       "    .dataframe tbody tr th {\n",
       "        vertical-align: top;\n",
       "    }\n",
       "\n",
       "    .dataframe thead th {\n",
       "        text-align: right;\n",
       "    }\n",
       "</style>\n",
       "<table border=\"1\" class=\"dataframe\">\n",
       "  <thead>\n",
       "    <tr style=\"text-align: right;\">\n",
       "      <th></th>\n",
       "      <th>rate constant</th>\n",
       "      <th>temperature</th>\n",
       "      <th>inverse temperature</th>\n",
       "    </tr>\n",
       "  </thead>\n",
       "  <tbody>\n",
       "    <tr>\n",
       "      <th>0</th>\n",
       "      <td>0.011</td>\n",
       "      <td>700</td>\n",
       "      <td>0.001429</td>\n",
       "    </tr>\n",
       "    <tr>\n",
       "      <th>1</th>\n",
       "      <td>0.035</td>\n",
       "      <td>730</td>\n",
       "      <td>0.001370</td>\n",
       "    </tr>\n",
       "    <tr>\n",
       "      <th>2</th>\n",
       "      <td>0.105</td>\n",
       "      <td>760</td>\n",
       "      <td>0.001316</td>\n",
       "    </tr>\n",
       "    <tr>\n",
       "      <th>3</th>\n",
       "      <td>0.343</td>\n",
       "      <td>790</td>\n",
       "      <td>0.001266</td>\n",
       "    </tr>\n",
       "    <tr>\n",
       "      <th>4</th>\n",
       "      <td>0.789</td>\n",
       "      <td>810</td>\n",
       "      <td>0.001235</td>\n",
       "    </tr>\n",
       "  </tbody>\n",
       "</table>\n",
       "</div>"
      ],
      "text/plain": [
       "   rate constant  temperature  inverse temperature\n",
       "0          0.011          700             0.001429\n",
       "1          0.035          730             0.001370\n",
       "2          0.105          760             0.001316\n",
       "3          0.343          790             0.001266\n",
       "4          0.789          810             0.001235"
      ]
     },
     "execution_count": 135,
     "metadata": {},
     "output_type": "execute_result"
    }
   ],
   "source": [
    "data[\"inverse temperature\"] = 1.0 / data[\"temperature\"]\n",
    "data"
   ]
  },
  {
   "cell_type": "markdown",
   "id": "3b4f5faa",
   "metadata": {},
   "source": [
    "**Task for you**: Add a new column with the logarithm of the rate constant to the table. For calculating the logarithm, you can use the method `np.log()` from NumPy:"
   ]
  },
  {
   "cell_type": "code",
   "execution_count": 140,
   "id": "b763543f",
   "metadata": {},
   "outputs": [
    {
     "data": {
      "text/html": [
       "<div>\n",
       "<style scoped>\n",
       "    .dataframe tbody tr th:only-of-type {\n",
       "        vertical-align: middle;\n",
       "    }\n",
       "\n",
       "    .dataframe tbody tr th {\n",
       "        vertical-align: top;\n",
       "    }\n",
       "\n",
       "    .dataframe thead th {\n",
       "        text-align: right;\n",
       "    }\n",
       "</style>\n",
       "<table border=\"1\" class=\"dataframe\">\n",
       "  <thead>\n",
       "    <tr style=\"text-align: right;\">\n",
       "      <th></th>\n",
       "      <th>rate constant</th>\n",
       "      <th>temperature</th>\n",
       "      <th>inverse temperature</th>\n",
       "      <th>logarithmic</th>\n",
       "      <th>logarithmic rate</th>\n",
       "    </tr>\n",
       "  </thead>\n",
       "  <tbody>\n",
       "    <tr>\n",
       "      <th>0</th>\n",
       "      <td>0.011</td>\n",
       "      <td>700</td>\n",
       "      <td>0.001429</td>\n",
       "      <td>-4.509860</td>\n",
       "      <td>-4.509860</td>\n",
       "    </tr>\n",
       "    <tr>\n",
       "      <th>1</th>\n",
       "      <td>0.035</td>\n",
       "      <td>730</td>\n",
       "      <td>0.001370</td>\n",
       "      <td>-3.352407</td>\n",
       "      <td>-3.352407</td>\n",
       "    </tr>\n",
       "    <tr>\n",
       "      <th>2</th>\n",
       "      <td>0.105</td>\n",
       "      <td>760</td>\n",
       "      <td>0.001316</td>\n",
       "      <td>-2.253795</td>\n",
       "      <td>-2.253795</td>\n",
       "    </tr>\n",
       "    <tr>\n",
       "      <th>3</th>\n",
       "      <td>0.343</td>\n",
       "      <td>790</td>\n",
       "      <td>0.001266</td>\n",
       "      <td>-1.070025</td>\n",
       "      <td>-1.070025</td>\n",
       "    </tr>\n",
       "    <tr>\n",
       "      <th>4</th>\n",
       "      <td>0.789</td>\n",
       "      <td>810</td>\n",
       "      <td>0.001235</td>\n",
       "      <td>-0.236989</td>\n",
       "      <td>-0.236989</td>\n",
       "    </tr>\n",
       "  </tbody>\n",
       "</table>\n",
       "</div>"
      ],
      "text/plain": [
       "   rate constant  temperature  inverse temperature  logarithmic  \\\n",
       "0          0.011          700             0.001429    -4.509860   \n",
       "1          0.035          730             0.001370    -3.352407   \n",
       "2          0.105          760             0.001316    -2.253795   \n",
       "3          0.343          790             0.001266    -1.070025   \n",
       "4          0.789          810             0.001235    -0.236989   \n",
       "\n",
       "   logarithmic rate  \n",
       "0         -4.509860  \n",
       "1         -3.352407  \n",
       "2         -2.253795  \n",
       "3         -1.070025  \n",
       "4         -0.236989  "
      ]
     },
     "execution_count": 140,
     "metadata": {},
     "output_type": "execute_result"
    }
   ],
   "source": [
    "# Write your code here to add a new column with the logarithm of the rate constant to the table.\n",
    "\n",
    "data[\"logarithmic rate\"] = np.log(data[\"rate constant\"])\n",
    "data"
   ]
  },
  {
   "cell_type": "markdown",
   "id": "1f9ef5c3",
   "metadata": {},
   "source": [
    "We will now plot the rate constant as a function of the temperature:\n",
    "\n",
    "1. We create an empty figure and two axes for plotting.\n",
    "2. We add a scatter plot to the first axis by using the axis method `scatter()`:"
   ]
  },
  {
   "cell_type": "code",
   "execution_count": 142,
   "id": "98f87b76",
   "metadata": {},
   "outputs": [
    {
     "data": {
      "application/javascript": "/* Put everything inside the global mpl namespace */\n/* global mpl */\nwindow.mpl = {};\n\nmpl.get_websocket_type = function () {\n    if (typeof WebSocket !== 'undefined') {\n        return WebSocket;\n    } else if (typeof MozWebSocket !== 'undefined') {\n        return MozWebSocket;\n    } else {\n        alert(\n            'Your browser does not have WebSocket support. ' +\n                'Please try Chrome, Safari or Firefox ≥ 6. ' +\n                'Firefox 4 and 5 are also supported but you ' +\n                'have to enable WebSockets in about:config.'\n        );\n    }\n};\n\nmpl.figure = function (figure_id, websocket, ondownload, parent_element) {\n    this.id = figure_id;\n\n    this.ws = websocket;\n\n    this.supports_binary = this.ws.binaryType !== undefined;\n\n    if (!this.supports_binary) {\n        var warnings = document.getElementById('mpl-warnings');\n        if (warnings) {\n            warnings.style.display = 'block';\n            warnings.textContent =\n                'This browser does not support binary websocket messages. ' +\n                'Performance may be slow.';\n        }\n    }\n\n    this.imageObj = new Image();\n\n    this.context = undefined;\n    this.message = undefined;\n    this.canvas = undefined;\n    this.rubberband_canvas = undefined;\n    this.rubberband_context = undefined;\n    this.format_dropdown = undefined;\n\n    this.image_mode = 'full';\n\n    this.root = document.createElement('div');\n    this.root.setAttribute('style', 'display: inline-block');\n    this._root_extra_style(this.root);\n\n    parent_element.appendChild(this.root);\n\n    this._init_header(this);\n    this._init_canvas(this);\n    this._init_toolbar(this);\n\n    var fig = this;\n\n    this.waiting = false;\n\n    this.ws.onopen = function () {\n        fig.send_message('supports_binary', { value: fig.supports_binary });\n        fig.send_message('send_image_mode', {});\n        if (fig.ratio !== 1) {\n            fig.send_message('set_device_pixel_ratio', {\n                device_pixel_ratio: fig.ratio,\n            });\n        }\n        fig.send_message('refresh', {});\n    };\n\n    this.imageObj.onload = function () {\n        if (fig.image_mode === 'full') {\n            // Full images could contain transparency (where diff images\n            // almost always do), so we need to clear the canvas so that\n            // there is no ghosting.\n            fig.context.clearRect(0, 0, fig.canvas.width, fig.canvas.height);\n        }\n        fig.context.drawImage(fig.imageObj, 0, 0);\n    };\n\n    this.imageObj.onunload = function () {\n        fig.ws.close();\n    };\n\n    this.ws.onmessage = this._make_on_message_function(this);\n\n    this.ondownload = ondownload;\n};\n\nmpl.figure.prototype._init_header = function () {\n    var titlebar = document.createElement('div');\n    titlebar.classList =\n        'ui-dialog-titlebar ui-widget-header ui-corner-all ui-helper-clearfix';\n    var titletext = document.createElement('div');\n    titletext.classList = 'ui-dialog-title';\n    titletext.setAttribute(\n        'style',\n        'width: 100%; text-align: center; padding: 3px;'\n    );\n    titlebar.appendChild(titletext);\n    this.root.appendChild(titlebar);\n    this.header = titletext;\n};\n\nmpl.figure.prototype._canvas_extra_style = function (_canvas_div) {};\n\nmpl.figure.prototype._root_extra_style = function (_canvas_div) {};\n\nmpl.figure.prototype._init_canvas = function () {\n    var fig = this;\n\n    var canvas_div = (this.canvas_div = document.createElement('div'));\n    canvas_div.setAttribute('tabindex', '0');\n    canvas_div.setAttribute(\n        'style',\n        'border: 1px solid #ddd;' +\n            'box-sizing: content-box;' +\n            'clear: both;' +\n            'min-height: 1px;' +\n            'min-width: 1px;' +\n            'outline: 0;' +\n            'overflow: hidden;' +\n            'position: relative;' +\n            'resize: both;' +\n            'z-index: 2;'\n    );\n\n    function on_keyboard_event_closure(name) {\n        return function (event) {\n            return fig.key_event(event, name);\n        };\n    }\n\n    canvas_div.addEventListener(\n        'keydown',\n        on_keyboard_event_closure('key_press')\n    );\n    canvas_div.addEventListener(\n        'keyup',\n        on_keyboard_event_closure('key_release')\n    );\n\n    this._canvas_extra_style(canvas_div);\n    this.root.appendChild(canvas_div);\n\n    var canvas = (this.canvas = document.createElement('canvas'));\n    canvas.classList.add('mpl-canvas');\n    canvas.setAttribute(\n        'style',\n        'box-sizing: content-box;' +\n            'pointer-events: none;' +\n            'position: relative;' +\n            'z-index: 0;'\n    );\n\n    this.context = canvas.getContext('2d');\n\n    var backingStore =\n        this.context.backingStorePixelRatio ||\n        this.context.webkitBackingStorePixelRatio ||\n        this.context.mozBackingStorePixelRatio ||\n        this.context.msBackingStorePixelRatio ||\n        this.context.oBackingStorePixelRatio ||\n        this.context.backingStorePixelRatio ||\n        1;\n\n    this.ratio = (window.devicePixelRatio || 1) / backingStore;\n\n    var rubberband_canvas = (this.rubberband_canvas = document.createElement(\n        'canvas'\n    ));\n    rubberband_canvas.setAttribute(\n        'style',\n        'box-sizing: content-box;' +\n            'left: 0;' +\n            'pointer-events: none;' +\n            'position: absolute;' +\n            'top: 0;' +\n            'z-index: 1;'\n    );\n\n    // Apply a ponyfill if ResizeObserver is not implemented by browser.\n    if (this.ResizeObserver === undefined) {\n        if (window.ResizeObserver !== undefined) {\n            this.ResizeObserver = window.ResizeObserver;\n        } else {\n            var obs = _JSXTOOLS_RESIZE_OBSERVER({});\n            this.ResizeObserver = obs.ResizeObserver;\n        }\n    }\n\n    this.resizeObserverInstance = new this.ResizeObserver(function (entries) {\n        var nentries = entries.length;\n        for (var i = 0; i < nentries; i++) {\n            var entry = entries[i];\n            var width, height;\n            if (entry.contentBoxSize) {\n                if (entry.contentBoxSize instanceof Array) {\n                    // Chrome 84 implements new version of spec.\n                    width = entry.contentBoxSize[0].inlineSize;\n                    height = entry.contentBoxSize[0].blockSize;\n                } else {\n                    // Firefox implements old version of spec.\n                    width = entry.contentBoxSize.inlineSize;\n                    height = entry.contentBoxSize.blockSize;\n                }\n            } else {\n                // Chrome <84 implements even older version of spec.\n                width = entry.contentRect.width;\n                height = entry.contentRect.height;\n            }\n\n            // Keep the size of the canvas and rubber band canvas in sync with\n            // the canvas container.\n            if (entry.devicePixelContentBoxSize) {\n                // Chrome 84 implements new version of spec.\n                canvas.setAttribute(\n                    'width',\n                    entry.devicePixelContentBoxSize[0].inlineSize\n                );\n                canvas.setAttribute(\n                    'height',\n                    entry.devicePixelContentBoxSize[0].blockSize\n                );\n            } else {\n                canvas.setAttribute('width', width * fig.ratio);\n                canvas.setAttribute('height', height * fig.ratio);\n            }\n            /* This rescales the canvas back to display pixels, so that it\n             * appears correct on HiDPI screens. */\n            canvas.style.width = width + 'px';\n            canvas.style.height = height + 'px';\n\n            rubberband_canvas.setAttribute('width', width);\n            rubberband_canvas.setAttribute('height', height);\n\n            // And update the size in Python. We ignore the initial 0/0 size\n            // that occurs as the element is placed into the DOM, which should\n            // otherwise not happen due to the minimum size styling.\n            if (fig.ws.readyState == 1 && width != 0 && height != 0) {\n                fig.request_resize(width, height);\n            }\n        }\n    });\n    this.resizeObserverInstance.observe(canvas_div);\n\n    function on_mouse_event_closure(name) {\n        /* User Agent sniffing is bad, but WebKit is busted:\n         * https://bugs.webkit.org/show_bug.cgi?id=144526\n         * https://bugs.webkit.org/show_bug.cgi?id=181818\n         * The worst that happens here is that they get an extra browser\n         * selection when dragging, if this check fails to catch them.\n         */\n        var UA = navigator.userAgent;\n        var isWebKit = /AppleWebKit/.test(UA) && !/Chrome/.test(UA);\n        if(isWebKit) {\n            return function (event) {\n                /* This prevents the web browser from automatically changing to\n                 * the text insertion cursor when the button is pressed. We\n                 * want to control all of the cursor setting manually through\n                 * the 'cursor' event from matplotlib */\n                event.preventDefault()\n                return fig.mouse_event(event, name);\n            };\n        } else {\n            return function (event) {\n                return fig.mouse_event(event, name);\n            };\n        }\n    }\n\n    canvas_div.addEventListener(\n        'mousedown',\n        on_mouse_event_closure('button_press')\n    );\n    canvas_div.addEventListener(\n        'mouseup',\n        on_mouse_event_closure('button_release')\n    );\n    canvas_div.addEventListener(\n        'dblclick',\n        on_mouse_event_closure('dblclick')\n    );\n    // Throttle sequential mouse events to 1 every 20ms.\n    canvas_div.addEventListener(\n        'mousemove',\n        on_mouse_event_closure('motion_notify')\n    );\n\n    canvas_div.addEventListener(\n        'mouseenter',\n        on_mouse_event_closure('figure_enter')\n    );\n    canvas_div.addEventListener(\n        'mouseleave',\n        on_mouse_event_closure('figure_leave')\n    );\n\n    canvas_div.addEventListener('wheel', function (event) {\n        if (event.deltaY < 0) {\n            event.step = 1;\n        } else {\n            event.step = -1;\n        }\n        on_mouse_event_closure('scroll')(event);\n    });\n\n    canvas_div.appendChild(canvas);\n    canvas_div.appendChild(rubberband_canvas);\n\n    this.rubberband_context = rubberband_canvas.getContext('2d');\n    this.rubberband_context.strokeStyle = '#000000';\n\n    this._resize_canvas = function (width, height, forward) {\n        if (forward) {\n            canvas_div.style.width = width + 'px';\n            canvas_div.style.height = height + 'px';\n        }\n    };\n\n    // Disable right mouse context menu.\n    canvas_div.addEventListener('contextmenu', function (_e) {\n        event.preventDefault();\n        return false;\n    });\n\n    function set_focus() {\n        canvas.focus();\n        canvas_div.focus();\n    }\n\n    window.setTimeout(set_focus, 100);\n};\n\nmpl.figure.prototype._init_toolbar = function () {\n    var fig = this;\n\n    var toolbar = document.createElement('div');\n    toolbar.classList = 'mpl-toolbar';\n    this.root.appendChild(toolbar);\n\n    function on_click_closure(name) {\n        return function (_event) {\n            return fig.toolbar_button_onclick(name);\n        };\n    }\n\n    function on_mouseover_closure(tooltip) {\n        return function (event) {\n            if (!event.currentTarget.disabled) {\n                return fig.toolbar_button_onmouseover(tooltip);\n            }\n        };\n    }\n\n    fig.buttons = {};\n    var buttonGroup = document.createElement('div');\n    buttonGroup.classList = 'mpl-button-group';\n    for (var toolbar_ind in mpl.toolbar_items) {\n        var name = mpl.toolbar_items[toolbar_ind][0];\n        var tooltip = mpl.toolbar_items[toolbar_ind][1];\n        var image = mpl.toolbar_items[toolbar_ind][2];\n        var method_name = mpl.toolbar_items[toolbar_ind][3];\n\n        if (!name) {\n            /* Instead of a spacer, we start a new button group. */\n            if (buttonGroup.hasChildNodes()) {\n                toolbar.appendChild(buttonGroup);\n            }\n            buttonGroup = document.createElement('div');\n            buttonGroup.classList = 'mpl-button-group';\n            continue;\n        }\n\n        var button = (fig.buttons[name] = document.createElement('button'));\n        button.classList = 'mpl-widget';\n        button.setAttribute('role', 'button');\n        button.setAttribute('aria-disabled', 'false');\n        button.addEventListener('click', on_click_closure(method_name));\n        button.addEventListener('mouseover', on_mouseover_closure(tooltip));\n\n        var icon_img = document.createElement('img');\n        icon_img.src = '_images/' + image + '.png';\n        icon_img.srcset = '_images/' + image + '_large.png 2x';\n        icon_img.alt = tooltip;\n        button.appendChild(icon_img);\n\n        buttonGroup.appendChild(button);\n    }\n\n    if (buttonGroup.hasChildNodes()) {\n        toolbar.appendChild(buttonGroup);\n    }\n\n    var fmt_picker = document.createElement('select');\n    fmt_picker.classList = 'mpl-widget';\n    toolbar.appendChild(fmt_picker);\n    this.format_dropdown = fmt_picker;\n\n    for (var ind in mpl.extensions) {\n        var fmt = mpl.extensions[ind];\n        var option = document.createElement('option');\n        option.selected = fmt === mpl.default_extension;\n        option.innerHTML = fmt;\n        fmt_picker.appendChild(option);\n    }\n\n    var status_bar = document.createElement('span');\n    status_bar.classList = 'mpl-message';\n    toolbar.appendChild(status_bar);\n    this.message = status_bar;\n};\n\nmpl.figure.prototype.request_resize = function (x_pixels, y_pixels) {\n    // Request matplotlib to resize the figure. Matplotlib will then trigger a resize in the client,\n    // which will in turn request a refresh of the image.\n    this.send_message('resize', { width: x_pixels, height: y_pixels });\n};\n\nmpl.figure.prototype.send_message = function (type, properties) {\n    properties['type'] = type;\n    properties['figure_id'] = this.id;\n    this.ws.send(JSON.stringify(properties));\n};\n\nmpl.figure.prototype.send_draw_message = function () {\n    if (!this.waiting) {\n        this.waiting = true;\n        this.ws.send(JSON.stringify({ type: 'draw', figure_id: this.id }));\n    }\n};\n\nmpl.figure.prototype.handle_save = function (fig, _msg) {\n    var format_dropdown = fig.format_dropdown;\n    var format = format_dropdown.options[format_dropdown.selectedIndex].value;\n    fig.ondownload(fig, format);\n};\n\nmpl.figure.prototype.handle_resize = function (fig, msg) {\n    var size = msg['size'];\n    if (size[0] !== fig.canvas.width || size[1] !== fig.canvas.height) {\n        fig._resize_canvas(size[0], size[1], msg['forward']);\n        fig.send_message('refresh', {});\n    }\n};\n\nmpl.figure.prototype.handle_rubberband = function (fig, msg) {\n    var x0 = msg['x0'] / fig.ratio;\n    var y0 = (fig.canvas.height - msg['y0']) / fig.ratio;\n    var x1 = msg['x1'] / fig.ratio;\n    var y1 = (fig.canvas.height - msg['y1']) / fig.ratio;\n    x0 = Math.floor(x0) + 0.5;\n    y0 = Math.floor(y0) + 0.5;\n    x1 = Math.floor(x1) + 0.5;\n    y1 = Math.floor(y1) + 0.5;\n    var min_x = Math.min(x0, x1);\n    var min_y = Math.min(y0, y1);\n    var width = Math.abs(x1 - x0);\n    var height = Math.abs(y1 - y0);\n\n    fig.rubberband_context.clearRect(\n        0,\n        0,\n        fig.canvas.width / fig.ratio,\n        fig.canvas.height / fig.ratio\n    );\n\n    fig.rubberband_context.strokeRect(min_x, min_y, width, height);\n};\n\nmpl.figure.prototype.handle_figure_label = function (fig, msg) {\n    // Updates the figure title.\n    fig.header.textContent = msg['label'];\n};\n\nmpl.figure.prototype.handle_cursor = function (fig, msg) {\n    fig.canvas_div.style.cursor = msg['cursor'];\n};\n\nmpl.figure.prototype.handle_message = function (fig, msg) {\n    fig.message.textContent = msg['message'];\n};\n\nmpl.figure.prototype.handle_draw = function (fig, _msg) {\n    // Request the server to send over a new figure.\n    fig.send_draw_message();\n};\n\nmpl.figure.prototype.handle_image_mode = function (fig, msg) {\n    fig.image_mode = msg['mode'];\n};\n\nmpl.figure.prototype.handle_history_buttons = function (fig, msg) {\n    for (var key in msg) {\n        if (!(key in fig.buttons)) {\n            continue;\n        }\n        fig.buttons[key].disabled = !msg[key];\n        fig.buttons[key].setAttribute('aria-disabled', !msg[key]);\n    }\n};\n\nmpl.figure.prototype.handle_navigate_mode = function (fig, msg) {\n    if (msg['mode'] === 'PAN') {\n        fig.buttons['Pan'].classList.add('active');\n        fig.buttons['Zoom'].classList.remove('active');\n    } else if (msg['mode'] === 'ZOOM') {\n        fig.buttons['Pan'].classList.remove('active');\n        fig.buttons['Zoom'].classList.add('active');\n    } else {\n        fig.buttons['Pan'].classList.remove('active');\n        fig.buttons['Zoom'].classList.remove('active');\n    }\n};\n\nmpl.figure.prototype.updated_canvas_event = function () {\n    // Called whenever the canvas gets updated.\n    this.send_message('ack', {});\n};\n\n// A function to construct a web socket function for onmessage handling.\n// Called in the figure constructor.\nmpl.figure.prototype._make_on_message_function = function (fig) {\n    return function socket_on_message(evt) {\n        if (evt.data instanceof Blob) {\n            var img = evt.data;\n            if (img.type !== 'image/png') {\n                /* FIXME: We get \"Resource interpreted as Image but\n                 * transferred with MIME type text/plain:\" errors on\n                 * Chrome.  But how to set the MIME type?  It doesn't seem\n                 * to be part of the websocket stream */\n                img.type = 'image/png';\n            }\n\n            /* Free the memory for the previous frames */\n            if (fig.imageObj.src) {\n                (window.URL || window.webkitURL).revokeObjectURL(\n                    fig.imageObj.src\n                );\n            }\n\n            fig.imageObj.src = (window.URL || window.webkitURL).createObjectURL(\n                img\n            );\n            fig.updated_canvas_event();\n            fig.waiting = false;\n            return;\n        } else if (\n            typeof evt.data === 'string' &&\n            evt.data.slice(0, 21) === 'data:image/png;base64'\n        ) {\n            fig.imageObj.src = evt.data;\n            fig.updated_canvas_event();\n            fig.waiting = false;\n            return;\n        }\n\n        var msg = JSON.parse(evt.data);\n        var msg_type = msg['type'];\n\n        // Call the  \"handle_{type}\" callback, which takes\n        // the figure and JSON message as its only arguments.\n        try {\n            var callback = fig['handle_' + msg_type];\n        } catch (e) {\n            console.log(\n                \"No handler for the '\" + msg_type + \"' message type: \",\n                msg\n            );\n            return;\n        }\n\n        if (callback) {\n            try {\n                // console.log(\"Handling '\" + msg_type + \"' message: \", msg);\n                callback(fig, msg);\n            } catch (e) {\n                console.log(\n                    \"Exception inside the 'handler_\" + msg_type + \"' callback:\",\n                    e,\n                    e.stack,\n                    msg\n                );\n            }\n        }\n    };\n};\n\nfunction getModifiers(event) {\n    var mods = [];\n    if (event.ctrlKey) {\n        mods.push('ctrl');\n    }\n    if (event.altKey) {\n        mods.push('alt');\n    }\n    if (event.shiftKey) {\n        mods.push('shift');\n    }\n    if (event.metaKey) {\n        mods.push('meta');\n    }\n    return mods;\n}\n\n/*\n * return a copy of an object with only non-object keys\n * we need this to avoid circular references\n * https://stackoverflow.com/a/24161582/3208463\n */\nfunction simpleKeys(original) {\n    return Object.keys(original).reduce(function (obj, key) {\n        if (typeof original[key] !== 'object') {\n            obj[key] = original[key];\n        }\n        return obj;\n    }, {});\n}\n\nmpl.figure.prototype.mouse_event = function (event, name) {\n    if (name === 'button_press') {\n        this.canvas.focus();\n        this.canvas_div.focus();\n    }\n\n    // from https://stackoverflow.com/q/1114465\n    var boundingRect = this.canvas.getBoundingClientRect();\n    var x = (event.clientX - boundingRect.left) * this.ratio;\n    var y = (event.clientY - boundingRect.top) * this.ratio;\n\n    this.send_message(name, {\n        x: x,\n        y: y,\n        button: event.button,\n        step: event.step,\n        modifiers: getModifiers(event),\n        guiEvent: simpleKeys(event),\n    });\n\n    return false;\n};\n\nmpl.figure.prototype._key_event_extra = function (_event, _name) {\n    // Handle any extra behaviour associated with a key event\n};\n\nmpl.figure.prototype.key_event = function (event, name) {\n    // Prevent repeat events\n    if (name === 'key_press') {\n        if (event.key === this._key) {\n            return;\n        } else {\n            this._key = event.key;\n        }\n    }\n    if (name === 'key_release') {\n        this._key = null;\n    }\n\n    var value = '';\n    if (event.ctrlKey && event.key !== 'Control') {\n        value += 'ctrl+';\n    }\n    else if (event.altKey && event.key !== 'Alt') {\n        value += 'alt+';\n    }\n    else if (event.shiftKey && event.key !== 'Shift') {\n        value += 'shift+';\n    }\n\n    value += 'k' + event.key;\n\n    this._key_event_extra(event, name);\n\n    this.send_message(name, { key: value, guiEvent: simpleKeys(event) });\n    return false;\n};\n\nmpl.figure.prototype.toolbar_button_onclick = function (name) {\n    if (name === 'download') {\n        this.handle_save(this, null);\n    } else {\n        this.send_message('toolbar_button', { name: name });\n    }\n};\n\nmpl.figure.prototype.toolbar_button_onmouseover = function (tooltip) {\n    this.message.textContent = tooltip;\n};\n\n///////////////// REMAINING CONTENT GENERATED BY embed_js.py /////////////////\n// prettier-ignore\nvar _JSXTOOLS_RESIZE_OBSERVER=function(A){var t,i=new WeakMap,n=new WeakMap,a=new WeakMap,r=new WeakMap,o=new Set;function s(e){if(!(this instanceof s))throw new TypeError(\"Constructor requires 'new' operator\");i.set(this,e)}function h(){throw new TypeError(\"Function is not a constructor\")}function c(e,t,i,n){e=0 in arguments?Number(arguments[0]):0,t=1 in arguments?Number(arguments[1]):0,i=2 in arguments?Number(arguments[2]):0,n=3 in arguments?Number(arguments[3]):0,this.right=(this.x=this.left=e)+(this.width=i),this.bottom=(this.y=this.top=t)+(this.height=n),Object.freeze(this)}function d(){t=requestAnimationFrame(d);var s=new WeakMap,p=new Set;o.forEach((function(t){r.get(t).forEach((function(i){var r=t instanceof window.SVGElement,o=a.get(t),d=r?0:parseFloat(o.paddingTop),f=r?0:parseFloat(o.paddingRight),l=r?0:parseFloat(o.paddingBottom),u=r?0:parseFloat(o.paddingLeft),g=r?0:parseFloat(o.borderTopWidth),m=r?0:parseFloat(o.borderRightWidth),w=r?0:parseFloat(o.borderBottomWidth),b=u+f,F=d+l,v=(r?0:parseFloat(o.borderLeftWidth))+m,W=g+w,y=r?0:t.offsetHeight-W-t.clientHeight,E=r?0:t.offsetWidth-v-t.clientWidth,R=b+v,z=F+W,M=r?t.width:parseFloat(o.width)-R-E,O=r?t.height:parseFloat(o.height)-z-y;if(n.has(t)){var k=n.get(t);if(k[0]===M&&k[1]===O)return}n.set(t,[M,O]);var S=Object.create(h.prototype);S.target=t,S.contentRect=new c(u,d,M,O),s.has(i)||(s.set(i,[]),p.add(i)),s.get(i).push(S)}))})),p.forEach((function(e){i.get(e).call(e,s.get(e),e)}))}return s.prototype.observe=function(i){if(i instanceof window.Element){r.has(i)||(r.set(i,new Set),o.add(i),a.set(i,window.getComputedStyle(i)));var n=r.get(i);n.has(this)||n.add(this),cancelAnimationFrame(t),t=requestAnimationFrame(d)}},s.prototype.unobserve=function(i){if(i instanceof window.Element&&r.has(i)){var n=r.get(i);n.has(this)&&(n.delete(this),n.size||(r.delete(i),o.delete(i))),n.size||r.delete(i),o.size||cancelAnimationFrame(t)}},A.DOMRectReadOnly=c,A.ResizeObserver=s,A.ResizeObserverEntry=h,A}; // eslint-disable-line\nmpl.toolbar_items = [[\"Home\", \"Reset original view\", \"fa fa-home\", \"home\"], [\"Back\", \"Back to previous view\", \"fa fa-arrow-left\", \"back\"], [\"Forward\", \"Forward to next view\", \"fa fa-arrow-right\", \"forward\"], [\"\", \"\", \"\", \"\"], [\"Pan\", \"Left button pans, Right button zooms\\nx/y fixes axis, CTRL fixes aspect\", \"fa fa-arrows\", \"pan\"], [\"Zoom\", \"Zoom to rectangle\\nx/y fixes axis\", \"fa fa-square-o\", \"zoom\"], [\"\", \"\", \"\", \"\"], [\"Download\", \"Download plot\", \"fa fa-floppy-o\", \"download\"]];\n\nmpl.extensions = [\"eps\", \"jpeg\", \"pgf\", \"pdf\", \"png\", \"ps\", \"raw\", \"svg\", \"tif\", \"webp\"];\n\nmpl.default_extension = \"png\";/* global mpl */\n\nvar comm_websocket_adapter = function (comm) {\n    // Create a \"websocket\"-like object which calls the given IPython comm\n    // object with the appropriate methods. Currently this is a non binary\n    // socket, so there is still some room for performance tuning.\n    var ws = {};\n\n    ws.binaryType = comm.kernel.ws.binaryType;\n    ws.readyState = comm.kernel.ws.readyState;\n    function updateReadyState(_event) {\n        if (comm.kernel.ws) {\n            ws.readyState = comm.kernel.ws.readyState;\n        } else {\n            ws.readyState = 3; // Closed state.\n        }\n    }\n    comm.kernel.ws.addEventListener('open', updateReadyState);\n    comm.kernel.ws.addEventListener('close', updateReadyState);\n    comm.kernel.ws.addEventListener('error', updateReadyState);\n\n    ws.close = function () {\n        comm.close();\n    };\n    ws.send = function (m) {\n        //console.log('sending', m);\n        comm.send(m);\n    };\n    // Register the callback with on_msg.\n    comm.on_msg(function (msg) {\n        //console.log('receiving', msg['content']['data'], msg);\n        var data = msg['content']['data'];\n        if (data['blob'] !== undefined) {\n            data = {\n                data: new Blob(msg['buffers'], { type: data['blob'] }),\n            };\n        }\n        // Pass the mpl event to the overridden (by mpl) onmessage function.\n        ws.onmessage(data);\n    });\n    return ws;\n};\n\nmpl.mpl_figure_comm = function (comm, msg) {\n    // This is the function which gets called when the mpl process\n    // starts-up an IPython Comm through the \"matplotlib\" channel.\n\n    var id = msg.content.data.id;\n    // Get hold of the div created by the display call when the Comm\n    // socket was opened in Python.\n    var element = document.getElementById(id);\n    var ws_proxy = comm_websocket_adapter(comm);\n\n    function ondownload(figure, _format) {\n        window.open(figure.canvas.toDataURL());\n    }\n\n    var fig = new mpl.figure(id, ws_proxy, ondownload, element);\n\n    // Call onopen now - mpl needs it, as it is assuming we've passed it a real\n    // web socket which is closed, not our websocket->open comm proxy.\n    ws_proxy.onopen();\n\n    fig.parent_element = element;\n    fig.cell_info = mpl.find_output_cell(\"<div id='\" + id + \"'></div>\");\n    if (!fig.cell_info) {\n        console.error('Failed to find cell for figure', id, fig);\n        return;\n    }\n    fig.cell_info[0].output_area.element.on(\n        'cleared',\n        { fig: fig },\n        fig._remove_fig_handler\n    );\n};\n\nmpl.figure.prototype.handle_close = function (fig, msg) {\n    var width = fig.canvas.width / fig.ratio;\n    fig.cell_info[0].output_area.element.off(\n        'cleared',\n        fig._remove_fig_handler\n    );\n    fig.resizeObserverInstance.unobserve(fig.canvas_div);\n\n    // Update the output cell to use the data from the current canvas.\n    fig.push_to_output();\n    var dataURL = fig.canvas.toDataURL();\n    // Re-enable the keyboard manager in IPython - without this line, in FF,\n    // the notebook keyboard shortcuts fail.\n    IPython.keyboard_manager.enable();\n    fig.parent_element.innerHTML =\n        '<img src=\"' + dataURL + '\" width=\"' + width + '\">';\n    fig.close_ws(fig, msg);\n};\n\nmpl.figure.prototype.close_ws = function (fig, msg) {\n    fig.send_message('closing', msg);\n    // fig.ws.close()\n};\n\nmpl.figure.prototype.push_to_output = function (_remove_interactive) {\n    // Turn the data on the canvas into data in the output cell.\n    var width = this.canvas.width / this.ratio;\n    var dataURL = this.canvas.toDataURL();\n    this.cell_info[1]['text/html'] =\n        '<img src=\"' + dataURL + '\" width=\"' + width + '\">';\n};\n\nmpl.figure.prototype.updated_canvas_event = function () {\n    // Tell IPython that the notebook contents must change.\n    IPython.notebook.set_dirty(true);\n    this.send_message('ack', {});\n    var fig = this;\n    // Wait a second, then push the new image to the DOM so\n    // that it is saved nicely (might be nice to debounce this).\n    setTimeout(function () {\n        fig.push_to_output();\n    }, 1000);\n};\n\nmpl.figure.prototype._init_toolbar = function () {\n    var fig = this;\n\n    var toolbar = document.createElement('div');\n    toolbar.classList = 'btn-toolbar';\n    this.root.appendChild(toolbar);\n\n    function on_click_closure(name) {\n        return function (_event) {\n            return fig.toolbar_button_onclick(name);\n        };\n    }\n\n    function on_mouseover_closure(tooltip) {\n        return function (event) {\n            if (!event.currentTarget.disabled) {\n                return fig.toolbar_button_onmouseover(tooltip);\n            }\n        };\n    }\n\n    fig.buttons = {};\n    var buttonGroup = document.createElement('div');\n    buttonGroup.classList = 'btn-group';\n    var button;\n    for (var toolbar_ind in mpl.toolbar_items) {\n        var name = mpl.toolbar_items[toolbar_ind][0];\n        var tooltip = mpl.toolbar_items[toolbar_ind][1];\n        var image = mpl.toolbar_items[toolbar_ind][2];\n        var method_name = mpl.toolbar_items[toolbar_ind][3];\n\n        if (!name) {\n            /* Instead of a spacer, we start a new button group. */\n            if (buttonGroup.hasChildNodes()) {\n                toolbar.appendChild(buttonGroup);\n            }\n            buttonGroup = document.createElement('div');\n            buttonGroup.classList = 'btn-group';\n            continue;\n        }\n\n        button = fig.buttons[name] = document.createElement('button');\n        button.classList = 'btn btn-default';\n        button.href = '#';\n        button.title = name;\n        button.innerHTML = '<i class=\"fa ' + image + ' fa-lg\"></i>';\n        button.addEventListener('click', on_click_closure(method_name));\n        button.addEventListener('mouseover', on_mouseover_closure(tooltip));\n        buttonGroup.appendChild(button);\n    }\n\n    if (buttonGroup.hasChildNodes()) {\n        toolbar.appendChild(buttonGroup);\n    }\n\n    // Add the status bar.\n    var status_bar = document.createElement('span');\n    status_bar.classList = 'mpl-message pull-right';\n    toolbar.appendChild(status_bar);\n    this.message = status_bar;\n\n    // Add the close button to the window.\n    var buttongrp = document.createElement('div');\n    buttongrp.classList = 'btn-group inline pull-right';\n    button = document.createElement('button');\n    button.classList = 'btn btn-mini btn-primary';\n    button.href = '#';\n    button.title = 'Stop Interaction';\n    button.innerHTML = '<i class=\"fa fa-power-off icon-remove icon-large\"></i>';\n    button.addEventListener('click', function (_evt) {\n        fig.handle_close(fig, {});\n    });\n    button.addEventListener(\n        'mouseover',\n        on_mouseover_closure('Stop Interaction')\n    );\n    buttongrp.appendChild(button);\n    var titlebar = this.root.querySelector('.ui-dialog-titlebar');\n    titlebar.insertBefore(buttongrp, titlebar.firstChild);\n};\n\nmpl.figure.prototype._remove_fig_handler = function (event) {\n    var fig = event.data.fig;\n    if (event.target !== this) {\n        // Ignore bubbled events from children.\n        return;\n    }\n    fig.close_ws(fig, {});\n};\n\nmpl.figure.prototype._root_extra_style = function (el) {\n    el.style.boxSizing = 'content-box'; // override notebook setting of border-box.\n};\n\nmpl.figure.prototype._canvas_extra_style = function (el) {\n    // this is important to make the div 'focusable\n    el.setAttribute('tabindex', 0);\n    // reach out to IPython and tell the keyboard manager to turn it's self\n    // off when our div gets focus\n\n    // location in version 3\n    if (IPython.notebook.keyboard_manager) {\n        IPython.notebook.keyboard_manager.register_events(el);\n    } else {\n        // location in version 2\n        IPython.keyboard_manager.register_events(el);\n    }\n};\n\nmpl.figure.prototype._key_event_extra = function (event, _name) {\n    // Check for shift+enter\n    if (event.shiftKey && event.which === 13) {\n        this.canvas_div.blur();\n        // select the cell after this one\n        var index = IPython.notebook.find_cell_index(this.cell_info[0]);\n        IPython.notebook.select(index + 1);\n    }\n};\n\nmpl.figure.prototype.handle_save = function (fig, _msg) {\n    fig.ondownload(fig, null);\n};\n\nmpl.find_output_cell = function (html_output) {\n    // Return the cell and output element which can be found *uniquely* in the notebook.\n    // Note - this is a bit hacky, but it is done because the \"notebook_saving.Notebook\"\n    // IPython event is triggered only after the cells have been serialised, which for\n    // our purposes (turning an active figure into a static one), is too late.\n    var cells = IPython.notebook.get_cells();\n    var ncells = cells.length;\n    for (var i = 0; i < ncells; i++) {\n        var cell = cells[i];\n        if (cell.cell_type === 'code') {\n            for (var j = 0; j < cell.output_area.outputs.length; j++) {\n                var data = cell.output_area.outputs[j];\n                if (data.data) {\n                    // IPython >= 3 moved mimebundle to data attribute of output\n                    data = data.data;\n                }\n                if (data['text/html'] === html_output) {\n                    return [cell, data, j];\n                }\n            }\n        }\n    }\n};\n\n// Register the function which deals with the matplotlib target/channel.\n// The kernel may be null if the page has been refreshed.\nif (IPython.notebook.kernel !== null) {\n    IPython.notebook.kernel.comm_manager.register_target(\n        'matplotlib',\n        mpl.mpl_figure_comm\n    );\n}\n",
      "text/plain": [
       "<IPython.core.display.Javascript object>"
      ]
     },
     "metadata": {},
     "output_type": "display_data"
    },
    {
     "data": {
      "text/html": [
       "<div id='f7ed1f59-0c62-498c-9964-761320c154b4'></div>"
      ],
      "text/plain": [
       "<IPython.core.display.HTML object>"
      ]
     },
     "metadata": {},
     "output_type": "display_data"
    }
   ],
   "source": [
    "# We then create a figure as follows:\n",
    "fig, (ax1, ax2) = plt.subplots(\n",
    "    constrained_layout=True,\n",
    "    ncols=2, # Two columns\n",
    "    figsize=(8, 4)  # Set the size of the figure\n",
    ")\n",
    "# We set constrained layout to be True above to remove some white borders\n",
    "# and to make sure that all text is visible\n",
    "ax1.scatter(data[\"temperature\"], data[\"rate constant\"])\n",
    "ax1.set(xlabel=\"Temperature (K)\", ylabel=\"Rate constant (M$^1/2$)s\", title=\"Arrhenius\");"
   ]
  },
  {
   "cell_type": "markdown",
   "id": "cf1dd17f",
   "metadata": {},
   "source": [
    "**Task for you:** To the second plot above, add a new scatter plot where you use\n",
    "the inverse temperature for the x-axis and the logarithm of the rate constant for the y-axis.\n",
    "Change the labels on the x- and y-axes according to what you plot, and add\n",
    "a descriptive figure title. You can also experiment with colors, symbol types, etc.\n",
    "\n",
    "But let us not forget the science: Does it look like the logarithm of the rate constant varies linearly with the inverse temperature?"
   ]
  },
  {
   "cell_type": "code",
   "execution_count": null,
   "id": "30fade3e",
   "metadata": {},
   "outputs": [],
   "source": [
    "# Add your code here, some hints:\n",
    "# ax2.scatter(the-x-values-here, the-y-values-here)\n",
    "# ax2.set(xlabel=\"Description of x\", ylabel=\"Description of y\", title=\"Logarithmic scale\")"
   ]
  },
  {
   "cell_type": "markdown",
   "id": "8f95abb2",
   "metadata": {},
   "source": [
    "Let us see if we can determine the activation energy. From the logarithmic version of the\n",
    "Arrhenius equation, we see that the slope for the plot you just made is $-\\frac{E_\\text{a}}{R}$.\n",
    "\n",
    "In TKJ4175 you will (soon!) learn more about least squares regression. We can use least squares regression here to find the straight line that best approximates the data in the plot you made, and we can extract the slope\n",
    "from this line. Let us jump ahead and do that here with NumPy.\n",
    "\n",
    "NumPy has a convenient function for doing this, and it is called [polyfit](https://numpy.org/doc/stable/reference/generated/numpy.polyfit.html). It can be used as follows:\n",
    "\n",
    "```python\n",
    "p = np.polyfit(x, y, deg)\n",
    "```\n",
    "\n",
    "Where `x` and `y` are the values (x and y) we use for the fitting and `deg` is a number that tells NumPy what kind of polynomial to fit. For instance, if we put the number `1` in place of `deg` we will get a straight line. If we put the number `2` in place of `deg` we will get a second-order polynomial.\n",
    "\n",
    "The parameters of the fitted are returned and here stored in the variable `p`.\n",
    "In general, `polyfit` can be used to fit a polynomial of order `deg` and the parameters are returned in the following order:\n",
    "\n",
    "```python\n",
    "p(x) = p[0] * x**deg + x[1] * x**(deg - 1) + ... + p[deg]\n",
    "```\n",
    "\n",
    "Translated to the case where we fit a straight line (`deg = 1`) we get:\n",
    "\n",
    "```python\n",
    "p(x) = p[0] * x + p[1]\n",
    "```\n",
    "\n",
    "That is: `p[0]` will contain the slope and `p[1]` will contain the intersection (constant term) in the straight line."
   ]
  },
  {
   "cell_type": "markdown",
   "id": "a0de247b",
   "metadata": {},
   "source": [
    "**Task for you:** Modify the code below so that you fit the logarithm of the rate constant to the inverse\n",
    "temperature. If things work out correctly, you should find that the activation energy is around 180 kJ/mol."
   ]
  },
  {
   "cell_type": "code",
   "execution_count": null,
   "id": "46e9320b",
   "metadata": {},
   "outputs": [],
   "source": [
    "p = np.polyfit(data[\"inverse temperature\"], np.log(data[\"rate constant\"]), deg=1)\n",
    "print(f\"The equation is: {p[0]:.4f}*x + {p[1]:.4f}\")"
   ]
  },
  {
   "cell_type": "markdown",
   "id": "bcdd88e3",
   "metadata": {},
   "source": [
    "Finally, let us add the line you just fitted to the plot above.\n",
    "NumPy has a method to evaluate the polynomial (for us: the straight line). This method is called [polyval](https://numpy.org/doc/stable/reference/generated/numpy.polyval.html):\n",
    "\n",
    "```python\n",
    "yline = np.polyval(p, x)\n",
    "```\n",
    "\n",
    "This method will evaluate a polynomial with parameters `p` at the given `x` values."
   ]
  },
  {
   "cell_type": "markdown",
   "id": "c63985b2",
   "metadata": {},
   "source": [
    "**Task for you:** Run the code below so that you add your straight line to the plot above. Is the line a good fit?"
   ]
  },
  {
   "cell_type": "code",
   "execution_count": null,
   "id": "4e5c6d08",
   "metadata": {},
   "outputs": [],
   "source": [
    "# Calculate the y-values for the straight line:\n",
    "x = np.linspace(1./810., 1./700., 10)  # Make 10 points equally spaced in the temperature range.\n",
    "yline = np.polyval(p, x)\n",
    "ax2.plot(\n",
    "    x, yline, label=\"Fitted line\", color=\"xkcd:melon\", linewidth=3, ls=\"--\"\n",
    ")\n",
    "ax2.legend()"
   ]
  },
  {
   "cell_type": "markdown",
   "id": "bf12a36e",
   "metadata": {},
   "source": [
    "## Part 6: Using pandas on penguins\n",
    "\n",
    "The file [./Data/penguins.csv](./Data/penguins.csv) contains data\n",
    "from a research paper by [Gorman, Williams, and Fraser](https://journals.plos.org/plosone/article?id=10.1371/journal.pone.0090081) on penguins. For individual penguins, the researchers have determined their species and sex and measured their bill length, bill depth, flipper length, and body mass (see Fig. 1 below).\n",
    "\n",
    "We will here use [pandas](https://pandas.pydata.org/) to explore this data. Later in the course, we\n",
    "will try to predict the species of penguins, based on the measured variables. Here, you will find some\n",
    "example code and some tasks. The tasks are marked like this: \n",
    "\n",
    "**Task for you:** Look at the picture below!\n",
    "\n",
    "\n",
    "| <img src=\"./Figures/bill.png\" width=\"50%\">                                   |\n",
    "|:-:|\n",
    "| **Fig. 1** *Illustration of bill length, bill depth, and flipper length. (The foot is not used in this data set.)*    |"
   ]
  },
  {
   "cell_type": "markdown",
   "id": "02c16617",
   "metadata": {},
   "source": [
    "We can load the data with pandas\n",
    " as follows:"
   ]
  },
  {
   "cell_type": "code",
   "execution_count": null,
   "id": "942f7a93",
   "metadata": {},
   "outputs": [],
   "source": [
    "import pandas as pd\n",
    "\n",
    "data = pd.read_csv(\"./Data/penguins.csv\")\n",
    "data.head()  # Show the first couple of penguins, if you remove \".head()\" you can display more of the data"
   ]
  },
  {
   "cell_type": "markdown",
   "id": "058df463",
   "metadata": {},
   "source": [
    "As you can see from the table above, we have 7 columns with titles here.\n",
    "Each row is a measurement for\n",
    "a single penguin for the 7 variables found in the columns:\n",
    "\n",
    "\n",
    "| Column            |  Description                                                        |\n",
    "|:------------------|--------------------------------------------------------------------:|\n",
    "| species           | The species (Adelie/Chinstrap/Gentoo)                               |\n",
    "| island            | The island where the observation was made (Dream/Torgersen/Biscoe)  |\n",
    "| bill_length_mm    | (See the illustration above) (measured in mm)                       |\n",
    "| bill_depth_mm     | (See the illustration above) (measured in mm)                       |\n",
    "| flipper_length_mm | (See the illustration above) (measured in mm)                       |\n",
    "| body_mass_g       | The weight of the penguin (in grams)                                |\n",
    "| sex               | Female/Male                                                         |"
   ]
  },
  {
   "cell_type": "markdown",
   "id": "5b2af608",
   "metadata": {},
   "source": [
    "With pandas, we can work directly on the columns. Here is an example that calculates the body\n",
    "mass in kg:"
   ]
  },
  {
   "cell_type": "code",
   "execution_count": null,
   "id": "d0c88253",
   "metadata": {},
   "outputs": [],
   "source": [
    "data[\"body_mass_kg\"] = data[\"body_mass_g\"] / 1000.\n",
    "data.head()"
   ]
  },
  {
   "cell_type": "markdown",
   "id": "acfcc5b2",
   "metadata": {},
   "source": [
    "**Task for you:** Add a new column with the bill depth divided by the flipper length:"
   ]
  },
  {
   "cell_type": "code",
   "execution_count": null,
   "id": "b849855a",
   "metadata": {},
   "outputs": [],
   "source": [
    "# Write your code here..."
   ]
  },
  {
   "cell_type": "markdown",
   "id": "19802de1",
   "metadata": {},
   "source": [
    "We can also do selections, for instance:"
   ]
  },
  {
   "cell_type": "code",
   "execution_count": null,
   "id": "d83de44e",
   "metadata": {},
   "outputs": [],
   "source": [
    "data[data[\"flipper_length_mm\"] >= 230]  # Select penguins with a flipper length greater than 230 mm:"
   ]
  },
  {
   "cell_type": "code",
   "execution_count": null,
   "id": "f55d936f",
   "metadata": {},
   "outputs": [],
   "source": [
    "data[data[\"species\"] == \"Gentoo\"].head()  # Select penguins of the Gentoo species:"
   ]
  },
  {
   "cell_type": "markdown",
   "id": "0d39b588",
   "metadata": {},
   "source": [
    "Pandas has a convenient method [describe](https://pandas.pydata.org/docs/reference/api/pandas.DataFrame.describe.html) for data frames that can be used to summarize the columns:"
   ]
  },
  {
   "cell_type": "code",
   "execution_count": null,
   "id": "1f49605d",
   "metadata": {},
   "outputs": [],
   "source": [
    "data.describe()"
   ]
  },
  {
   "cell_type": "markdown",
   "id": "fed9ce94",
   "metadata": {},
   "source": [
    "This can be used together with selections, for instance:"
   ]
  },
  {
   "cell_type": "code",
   "execution_count": null,
   "id": "72768ab4",
   "metadata": {},
   "outputs": [],
   "source": [
    "data[data[\"species\"] == \"Gentoo\"].describe()  # Select penguins of the Gentoo species and summarize:"
   ]
  },
  {
   "cell_type": "markdown",
   "id": "57d83e85",
   "metadata": {},
   "source": [
    "**Task for you:** Use selections and `describe()` to show a summary for female and a summary for male penguins. Are there\n",
    "any obvious differences?"
   ]
  },
  {
   "cell_type": "code",
   "execution_count": null,
   "id": "0da541e2",
   "metadata": {},
   "outputs": [],
   "source": [
    "# Write your code here..."
   ]
  },
  {
   "cell_type": "markdown",
   "id": "9f7eff5e",
   "metadata": {},
   "source": [
    "With pandas, we can also group data. The task above can also be solved by\n",
    "first grouping the penguins:"
   ]
  },
  {
   "cell_type": "code",
   "execution_count": null,
   "id": "b28601e2",
   "metadata": {},
   "outputs": [],
   "source": [
    "group = data.groupby([\"sex\"])\n",
    "group.describe().T\n",
    "# The .T is added here to transpose the table (swap rows/columns\n",
    "# to make it easier to read - you can try without the .T)"
   ]
  },
  {
   "cell_type": "markdown",
   "id": "20693d5e",
   "metadata": {},
   "source": [
    "There is not a big difference between the mean values for male and female penguins - the\n",
    "means are different, but the standard deviations (the *std* values) are also quite large.\n",
    "Perhaps the difference between species is a bigger influence. We can check this\n",
    "by grouping by both species and sex:"
   ]
  },
  {
   "cell_type": "code",
   "execution_count": null,
   "id": "04b8ab36",
   "metadata": {},
   "outputs": [],
   "source": [
    "group = data.groupby([\"species\", \"sex\"])\n",
    "group[\"flipper_length_mm\"].describe()  # Print out info about the flipper length"
   ]
  },
  {
   "cell_type": "markdown",
   "id": "3f2a3079",
   "metadata": {},
   "source": [
    "We will soon try to make some plots to see if there is a difference\n",
    "between the different penguin species. But first, here are some short tasks for you:"
   ]
  },
  {
   "cell_type": "markdown",
   "id": "6b068613",
   "metadata": {},
   "source": [
    "**Task for you:** For the data we have loaded, verify the following:\n",
    "\n",
    "1. We have data from three distinct islands (Dream, Torgersen, and Biscoe).\n",
    "\n",
    "1. We have data from three different penguin species (Adelie, Chinstrap, and Gentoo).\n",
    "   How many are there of each type?\n",
    "\n",
    "1. On the island of Dream, the only species are Adelie and Chinstrap.\n",
    "\n",
    "1. On the island of Torgersen, the only specie is Adelie.\n",
    "\n",
    "1. On the island of Biscoe, the only species are Adelie and Gentoo.\n",
    "\n",
    "Hint: This can be done with selections and grouping. For a grouping, you can\n",
    "also use ``group.size()`` to print out the number of penguins in each group."
   ]
  },
  {
   "cell_type": "code",
   "execution_count": null,
   "id": "43ed76fa",
   "metadata": {},
   "outputs": [],
   "source": [
    "# Write your code here..."
   ]
  },
  {
   "cell_type": "markdown",
   "id": "13a0b7ab",
   "metadata": {},
   "source": [
    "We will now make some plots to check if there is a difference between the different\n",
    "penguins. One way to look for differences is to compare distributions, say for the flipper length,\n",
    "for the different species.\n",
    "\n",
    "Pandas has many methods for [visualization](https://pandas.pydata.org/docs/user_guide/visualization.html).\n",
    "We will use some of these together with [seaborn](https://seaborn.pydata.org/) here (seaborn is another\n",
    "plotting library with many convenient plots). Let us start with creating\n",
    "a histogram for the flipper length:"
   ]
  },
  {
   "cell_type": "code",
   "execution_count": null,
   "id": "40e688cc",
   "metadata": {},
   "outputs": [],
   "source": [
    "group = data.groupby([\"species\"])\n",
    "group[\"flipper_length_mm\"].hist(legend=True, grid=False)"
   ]
  },
  {
   "cell_type": "markdown",
   "id": "61dcc34a",
   "metadata": {},
   "source": [
    "Histograms can be difficult to read. An alternative is\n",
    "a [kernel density estimation (KDE)](https://en.wikipedia.org/wiki/Kernel_density_estimation). The KDE\n",
    "tries to estimate the probability density function as a smooth function and can be easier to interpret.\n",
    "We can make such plots with pandas and `data.plot(kind=\"kde\")`. Here we will try to make it using the\n",
    "[seaborn](https://seaborn.pydata.org/) library. Seaborn has many convenient methods for making plots\n",
    "that usually looks quite nice:"
   ]
  },
  {
   "cell_type": "code",
   "execution_count": null,
   "id": "becdfeac",
   "metadata": {},
   "outputs": [],
   "source": [
    "import seaborn as sns\n",
    "from matplotlib import pyplot as plt\n",
    "\n",
    "sns.set_context(\"notebook\")  # apply some automatic seaborn styling for jupyter notebooks"
   ]
  },
  {
   "cell_type": "code",
   "execution_count": null,
   "id": "442359f3",
   "metadata": {},
   "outputs": [],
   "source": [
    "sns.kdeplot(data=data, x=\"flipper_length_mm\", hue=\"species\")\n",
    "# Note: We don't have to group the data here, we just say that we color (set the \"hue\")\n",
    "# by the \"species\" column."
   ]
  },
  {
   "cell_type": "markdown",
   "id": "b5cf832b",
   "metadata": {},
   "source": [
    "Another way to visualize distributions is by using a [box plot](https://builtin.com/data-science/boxplot) which is\n",
    "based on a [five-number summary](https://en.wikipedia.org/wiki/Five-number_summary):\n",
    "\n",
    "![box](./Figures/box.png)"
   ]
  },
  {
   "cell_type": "code",
   "execution_count": null,
   "id": "6dcc8c5a",
   "metadata": {},
   "outputs": [],
   "source": [
    "sns.boxplot(\n",
    "    data=data,\n",
    "    x=\"species\",\n",
    "    y=\"flipper_length_mm\",\n",
    "    hue=\"sex\",\n",
    "    order=[\"Adelie\", \"Chinstrap\", \"Gentoo\"],\n",
    "    hue_order=[\"female\", \"male\"]\n",
    ")"
   ]
  },
  {
   "cell_type": "markdown",
   "id": "4c2b7f83",
   "metadata": {},
   "source": [
    "**Task for you:** Below is a more elaborate plot - can you explain what it will show, before running the code?"
   ]
  },
  {
   "cell_type": "code",
   "execution_count": null,
   "id": "9b077302",
   "metadata": {},
   "outputs": [],
   "source": [
    "# Set up a plot (figure and axes) with 4 columns:\n",
    "fig, axes = plt.subplots(constrained_layout=True, ncols=4, figsize=(12, 3))\n",
    "\n",
    "variables = (\"bill_length_mm\", \"bill_depth_mm\", \"flipper_length_mm\", \"body_mass_g\")\n",
    "for i, variable in enumerate(variables):\n",
    "    sns.boxplot(\n",
    "        data=data,\n",
    "        x=\"species\",\n",
    "        y=variable,\n",
    "        hue=\"sex\",\n",
    "        ax=axes[i],\n",
    "        order=[\"Adelie\", \"Chinstrap\", \"Gentoo\"],\n",
    "        hue_order=[\"female\", \"male\"]\n",
    "    )\n",
    "    if i == 0:\n",
    "        axes[i].legend(fontsize=\"small\")\n",
    "    else:\n",
    "        axes[i].get_legend().remove()  # No need to repeat the legend\n",
    "\n",
    "sns.despine(fig=fig)  # Remove right and top spines (box around plot)"
   ]
  },
  {
   "cell_type": "markdown",
   "id": "534ff864",
   "metadata": {},
   "source": [
    "**Task for you:** Copy/modify the code above, and change the plotting from a box-plot to a [stripplot](https://seaborn.pydata.org/generated/seaborn.stripplot.html#seaborn.stripplot).\n",
    "Do you see a difference between the different\n",
    "species of penguins?\n",
    "\n",
    "The [stripplot](https://seaborn.pydata.org/generated/seaborn.stripplot.html#seaborn.stripplot) will show all observations\n",
    "(with some random displacements along the x-axis) and can be\n",
    "used together with the boxplot for interpretations. You can also observe the effect of adding\n",
    "`dodge=True` to your `stripplot(...)` call."
   ]
  },
  {
   "cell_type": "code",
   "execution_count": null,
   "id": "29d64bfb",
   "metadata": {},
   "outputs": [],
   "source": [
    "# Write your code here..."
   ]
  },
  {
   "cell_type": "markdown",
   "id": "7ffeb4d2",
   "metadata": {},
   "source": [
    "**Task for you:** Experiment with the plots above (for instance, try different variables for the KDE-plot). Can you find a set of variables you can use to distinguish the species of penguins?"
   ]
  },
  {
   "cell_type": "code",
   "execution_count": null,
   "id": "a688558a",
   "metadata": {},
   "outputs": [],
   "source": [
    "# Write your code here..."
   ]
  },
  {
   "cell_type": "markdown",
   "id": "67f7fb27",
   "metadata": {},
   "source": [
    "So far, we have just been looking at one variable at the same time. What if we try with pairs\n",
    "of variables? From the plot above it seems like Gentoo-penguins are different from the other two species for the bill depth, while the Adelie and Chinstrap are more different for the bill length. Maybe we could use these two\n",
    "variables together to distinguish between the species?\n",
    "\n",
    "\n",
    "Seaborn has a convenient method to plot pairs of variables. This is the \n",
    "[pairplot](https://seaborn.pydata.org/generated/seaborn.pairplot.html). We also refer to this\n",
    "plot as a scatter plot matrix (you can find this in the textbook by Alsberg in chapter 13.3 on page 235).\n",
    "If we have many variables, this can be\n",
    "inconvenient since we then have many combinations of pairs of variables. Later in the course, you\n",
    "will learn about principal component analysis which is a method we can use to reduce\n",
    "the number of variables without losing the most important information in the data.\n",
    "\n",
    "To create the scatter plot matrix, you can do the following:"
   ]
  },
  {
   "cell_type": "code",
   "execution_count": null,
   "id": "8d6d77b2",
   "metadata": {},
   "outputs": [],
   "source": [
    "sns.pairplot(data, hue=\"species\")  # Note: This can be a bit slow..."
   ]
  },
  {
   "cell_type": "markdown",
   "id": "36968e07",
   "metadata": {},
   "source": [
    "**Task for you:** From the plot above, what variables do you think are the best ones for determining the species of penguins?"
   ]
  }
 ],
 "metadata": {
  "kernelspec": {
   "display_name": "Python 3 (ipykernel)",
   "language": "python",
   "name": "python3"
  },
  "language_info": {
   "codemirror_mode": {
    "name": "ipython",
    "version": 3
   },
   "file_extension": ".py",
   "mimetype": "text/x-python",
   "name": "python",
   "nbconvert_exporter": "python",
   "pygments_lexer": "ipython3",
   "version": "3.11.1"
  }
 },
 "nbformat": 4,
 "nbformat_minor": 5
}
