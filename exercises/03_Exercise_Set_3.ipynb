{
 "cells": [
  {
   "cell_type": "markdown",
   "metadata": {},
   "source": [
    "# Exercise set 3\n",
    "\n",
    ">The goal of this exercise is to perform least squares regression and calculate some metrics for evaluating the regression ($R^2$ and residuals). We will also deal with a categorical variable."
   ]
  },
  {
   "cell_type": "markdown",
   "metadata": {},
   "source": [
    "## Exercise 3.1\n",
    "\n",
    "[Crampton](https://doi.org/10.1093/jn/33.5.491) studied the effect of vitamin C on\n",
    "Guinea pigs' teeth.<a name=\"cite_ref-1\"></a>[<sup>†</sup>](#cite_note-1)\n",
    "The guinea pigs were given vitamin C\n",
    "(either as orange juice or as ascorbic acid in water)\n",
    "at three different levels (0.5, 1, and 2 mg/day) and the\n",
    "length of their odontoblasts (cells that are important for tooth development) were measured after six weeks.\n",
    "The file [Data/guinea.csv](Data/guinea.csv) contains the measured lengths, delivery method, and\n",
    "dosage (see the description in Table 1).\n",
    "\n",
    "\n",
    "| Column     | Description                                              |\n",
    "|:-----------|:---------------------------------------------------------|\n",
    "| length     | Measured length of odontoblasts  (unit not given). |\n",
    "| delivery   | How the vitamin C was administered: either as ascorbic acid in water (“W”) or as orange juice (“O”).            |\n",
    "| dose       | Dosage of vitamin C (mg/day).                            |\n",
    "||**Table 1:** *Data columns present in the file [guinea.csv](Data/guinea.csv)*|\n",
    "\n",
    "\n",
    "<a name=\"cite_note-1\"></a>[<sup>†</sup>](#cite_ref-1) The Canadian Government had difficulty providing natural sources of vitamin C to its armed forces during World War II. Different foods were tested for their potency, but the different chemical\n",
    "procedures used at the time frequently gave inconsistent results. This study was carried out to establish a vitamin C bioassay that the chemical procedures could be checked against."
   ]
  },
  {
   "cell_type": "markdown",
   "metadata": {},
   "source": [
    "### 3.1(a)\n",
    "\n",
    "Plot the length as a function of the dose and fit a straight line (giving the length as a function of the dose)\n",
    "using least squares. Add the\n",
    "straight line to the plot, calculate $R^2$ and add this to a suitable place in your figure. Does the\n",
    "length increase or decrease with the dosage?\n",
    "\n",
    "Below, there is also code that uses ANOVA to analyse the effect of the dose on the length. Run this code. Do the ANOVA results indicate that the dose affects the length?"
   ]
  },
  {
   "cell_type": "code",
   "execution_count": 1,
   "metadata": {},
   "outputs": [
    {
     "name": "stderr",
     "output_type": "stream",
     "text": [
      "C:\\Users\\joach\\AppData\\Local\\Temp\\ipykernel_9152\\3352305924.py:4: DeprecationWarning: \n",
      "Pyarrow will become a required dependency of pandas in the next major release of pandas (pandas 3.0),\n",
      "(to allow more performant data types, such as the Arrow string type, and better interoperability with other libraries)\n",
      "but was not found to be installed on your system.\n",
      "If this would cause problems for you,\n",
      "please provide us feedback at https://github.com/pandas-dev/pandas/issues/54466\n",
      "        \n",
      "  import pandas as pd\n"
     ]
    },
    {
     "data": {
      "text/html": [
       "<div>\n",
       "<style scoped>\n",
       "    .dataframe tbody tr th:only-of-type {\n",
       "        vertical-align: middle;\n",
       "    }\n",
       "\n",
       "    .dataframe tbody tr th {\n",
       "        vertical-align: top;\n",
       "    }\n",
       "\n",
       "    .dataframe thead th {\n",
       "        text-align: right;\n",
       "    }\n",
       "</style>\n",
       "<table border=\"1\" class=\"dataframe\">\n",
       "  <thead>\n",
       "    <tr style=\"text-align: right;\">\n",
       "      <th></th>\n",
       "      <th>length</th>\n",
       "      <th>delivery</th>\n",
       "      <th>dose</th>\n",
       "    </tr>\n",
       "  </thead>\n",
       "  <tbody>\n",
       "    <tr>\n",
       "      <th>0</th>\n",
       "      <td>4.2</td>\n",
       "      <td>W</td>\n",
       "      <td>0.5</td>\n",
       "    </tr>\n",
       "    <tr>\n",
       "      <th>1</th>\n",
       "      <td>11.5</td>\n",
       "      <td>W</td>\n",
       "      <td>0.5</td>\n",
       "    </tr>\n",
       "    <tr>\n",
       "      <th>2</th>\n",
       "      <td>7.3</td>\n",
       "      <td>W</td>\n",
       "      <td>0.5</td>\n",
       "    </tr>\n",
       "    <tr>\n",
       "      <th>3</th>\n",
       "      <td>5.8</td>\n",
       "      <td>W</td>\n",
       "      <td>0.5</td>\n",
       "    </tr>\n",
       "    <tr>\n",
       "      <th>4</th>\n",
       "      <td>6.4</td>\n",
       "      <td>W</td>\n",
       "      <td>0.5</td>\n",
       "    </tr>\n",
       "  </tbody>\n",
       "</table>\n",
       "</div>"
      ],
      "text/plain": [
       "   length delivery  dose\n",
       "0     4.2        W   0.5\n",
       "1    11.5        W   0.5\n",
       "2     7.3        W   0.5\n",
       "3     5.8        W   0.5\n",
       "4     6.4        W   0.5"
      ]
     },
     "execution_count": 1,
     "metadata": {},
     "output_type": "execute_result"
    }
   ],
   "source": [
    "# Here is some code to get you started:\n",
    "from matplotlib import pyplot as plt\n",
    "import numpy as np\n",
    "import pandas as pd\n",
    "import seaborn as sns\n",
    "from sklearn.metrics import r2_score  # For calculating R²\n",
    "\n",
    "sns.set_theme(style=\"ticks\", context=\"notebook\", palette=\"colorblind\")\n",
    "\n",
    "# Load the data\n",
    "data = pd.read_csv(\"Data/guinea.csv\")\n",
    "data.head()"
   ]
  },
  {
   "cell_type": "code",
   "execution_count": 2,
   "metadata": {},
   "outputs": [
    {
     "name": "stdout",
     "output_type": "stream",
     "text": [
      "R² = 0.6461833508398673\n"
     ]
    }
   ],
   "source": [
    "# Here is some code for fitting a straight line:\n",
    "x = data[\"dose\"]\n",
    "y = data[\"length\"]\n",
    "p = np.polyfit(x, y, deg=1)\n",
    "# p = the coefficients of a polynomial of degree \"deg\" fitted using x and y.\n",
    "# To evaluate the polynomial, you can use numpy.polyval:\n",
    "y_hat = np.polyval(\n",
    "    p, x\n",
    ")  # Calculate y using p and x: y = p[0] * x^(N-1) + ... + p[N-1]\n",
    "\n",
    "# To calculate R², we only need the real y-values\n",
    "# and the y-values predicted by the model:\n",
    "r2 = r2_score(y, y_hat)\n",
    "print(f\"R² = {r2}\")"
   ]
  },
  {
   "cell_type": "code",
   "execution_count": 27,
   "metadata": {},
   "outputs": [
    {
     "data": {
      "text/plain": [
       "<matplotlib.legend.Legend at 0x1abc8ffeb40>"
      ]
     },
     "execution_count": 27,
     "metadata": {},
     "output_type": "execute_result"
    },
    {
     "data": {
      "image/png": "[encoded data removed]",
      "text/plain": [
       "<Figure size 640x480 with 1 Axes>"
      ]
     },
     "metadata": {},
     "output_type": "display_data"
    }
   ],
   "source": [
    "# Add your code for plotting here:\n",
    "fig, ax = plt.subplots()\n",
    "ax.plot(x, y, \"bo\")\n",
    "ax.plot(x, y_hat, \"g-\")\n",
    "ax.set(xlim=[0, max(x)+1])\n",
    "ax.legend([\"data\", \"prediction\"], title = \"R² = 0.646\")"
   ]
  },
  {
   "cell_type": "code",
   "execution_count": 32,
   "metadata": {},
   "outputs": [
    {
     "data": {
      "text/html": [
       "<div>\n",
       "<style scoped>\n",
       "    .dataframe tbody tr th:only-of-type {\n",
       "        vertical-align: middle;\n",
       "    }\n",
       "\n",
       "    .dataframe tbody tr th {\n",
       "        vertical-align: top;\n",
       "    }\n",
       "\n",
       "    .dataframe thead th {\n",
       "        text-align: right;\n",
       "    }\n",
       "</style>\n",
       "<table border=\"1\" class=\"dataframe\">\n",
       "  <thead>\n",
       "    <tr style=\"text-align: right;\">\n",
       "      <th></th>\n",
       "      <th>sum_sq</th>\n",
       "      <th>df</th>\n",
       "      <th>F</th>\n",
       "      <th>PR(&gt;F)</th>\n",
       "    </tr>\n",
       "  </thead>\n",
       "  <tbody>\n",
       "    <tr>\n",
       "      <th>C(dose)</th>\n",
       "      <td>2419.146333</td>\n",
       "      <td>2.0</td>\n",
       "      <td>67.79112</td>\n",
       "      <td>8.528462e-16</td>\n",
       "    </tr>\n",
       "    <tr>\n",
       "      <th>Residual</th>\n",
       "      <td>1017.031000</td>\n",
       "      <td>57.0</td>\n",
       "      <td>NaN</td>\n",
       "      <td>NaN</td>\n",
       "    </tr>\n",
       "  </tbody>\n",
       "</table>\n",
       "</div>"
      ],
      "text/plain": [
       "               sum_sq    df         F        PR(>F)\n",
       "C(dose)   2419.146333   2.0  67.79112  8.528462e-16\n",
       "Residual  1017.031000  57.0       NaN           NaN"
      ]
     },
     "execution_count": 32,
     "metadata": {},
     "output_type": "execute_result"
    }
   ],
   "source": [
    "# Code for running ANOVA:\n",
    "import statsmodels.api as sm\n",
    "from statsmodels.formula.api import ols\n",
    "\n",
    "model = ols(\"length ~ C(dose)\", data=data).fit()\n",
    "table = sm.stats.anova_lm(model, typ=2)\n",
    "table"
   ]
  },
  {
   "cell_type": "markdown",
   "metadata": {},
   "source": [
    "### Answer to question 3.1(a):\n",
    "\n",
    "The length seems to be increasing with dose based on the slope of the fitted model.\n",
    "\n",
    "The very small p-value indicates that the dose has a significant effect on length\n"
   ]
  },
  {
   "cell_type": "markdown",
   "metadata": {},
   "source": [
    "### 3.1(b)\n",
    "Is the measured length longer when the guinea pigs are given orange juice?\n",
    "Investigate this by comparing two least squares models: \n",
    "\n",
    "- (i) One for the length as a function of the dose for delivery = W,\n",
    "- (ii) and one for the length as a function of the dose for delivery = O."
   ]
  },
  {
   "cell_type": "code",
   "execution_count": 72,
   "metadata": {},
   "outputs": [
    {
     "data": {
      "image/png": "[encoded data removed]",
      "text/plain": [
       "<Figure size 640x480 with 1 Axes>"
      ]
     },
     "metadata": {},
     "output_type": "display_data"
    }
   ],
   "source": [
    "# Your code here\n",
    "\n",
    "# Note you can select from the pandas data frame like this:\n",
    "water = data[data[\"delivery\"] == \"W\"]\n",
    "x_w = water[\"dose\"]\n",
    "y_w = water[\"length\"]\n",
    "p_w = np.polyfit(x_w, y_w, deg = 1)\n",
    "p_what = np.polyval(p_w, x_w)\n",
    "r_w = r2_score(y_w, p_what)\n",
    "\n",
    "oj = data[data[\"delivery\"] == \"O\"]\n",
    "x_oj = oj[\"dose\"]\n",
    "y_oj = oj[\"length\"]\n",
    "p_oj = np.polyfit(x_oj, y_oj, deg = 1)\n",
    "p_ojhat = np.polyval(p_oj, x_oj)\n",
    "r_oj = r2_score(y_oj, p_ojhat)\n",
    "\n",
    "fig, ax = plt.subplots(constrained_layout=True)\n",
    "scat1 = ax.scatter(x_w, y_w, label=\"Water\")\n",
    "scat2 = ax.scatter(x_oj, y_oj, label=\"Orange juice\", marker=\"X\")\n",
    "\n",
    "ax.plot(\n",
    "    x_w,\n",
    "    p_what,\n",
    "    color=scat1.get_facecolor(),\n",
    "    lw=3,\n",
    "    label=(\n",
    "        f\"y = {p_w[0]:.2f}x + {p_w[1]:.2f}, \"\n",
    "        f\"(R² = {r_w:.2f})\"\n",
    "    )\n",
    ")\n",
    "\n",
    "ax.plot(\n",
    "    x_oj,\n",
    "    p_ojhat,\n",
    "    color=scat2.get_facecolor(),\n",
    "    lw=3,\n",
    "    ls=\":\",\n",
    "    label=(\n",
    "        f\"y = {p_oj[0]:.2f}x + {p_oj[1]:.2f}, \" f\"(R² = {r_oj:.2f})\"\n",
    "    ),\n",
    ")\n",
    "ax.set(xlabel=\"Dose\", ylabel=\"Length\")\n",
    "ax.legend()\n",
    "sns.despine(fig=fig)\n"
   ]
  },
  {
   "cell_type": "markdown",
   "metadata": {},
   "source": [
    "### Answer to question 3.1(b):\n",
    "\n",
    "The length when given orange juce is higher for lower doses, but converges with the water-administered dose when it reaches approximately 2. Both have positive growth, but water-administered dose has larger growth, and the model fits better than for orange juice and both data combined. "
   ]
  },
  {
   "cell_type": "markdown",
   "metadata": {},
   "source": [
    "### 3.1(c)\n",
    "\n",
    "Include the delivery as an additional variable in a new least\n",
    "squares model on the form,\n",
    "\n",
    "\\begin{equation}\n",
    "y = b_0 + b_1 x_1 + b_2 x_2 + b_{12} x_1 x_2,\n",
    "\\end{equation}\n",
    "\n",
    "where $y$ represents the length of odontoblasts, $x_1$ is the dose,\n",
    "$x_2$ the variable representing the delivery, and $b_i$ are the\n",
    "coefficients.\n",
    "You will first have to convert the delivery variable\n",
    "to numerical variables; see the [appendix](#Appendix:-Categorical-variables) for a short explanation.\n",
    "\n",
    "The term $b_{12} x_1 x_2$ represents an *interaction*. The\n",
    "interaction term will tell you how the effect on $y$ of one\n",
    "variable changes depending on the level of the other\n",
    "variable. \n",
    "After having created the model, how do you\n",
    "interpret the sign of the $b_{12}$ coefficient?\n",
    "\n",
    "The Jupyter version of the exercise includes code\n",
    "that uses ANOVA to analyse the effect of the dose and delivery on the length.\n",
    "Run this code. How do you interpret the ANOVA results?"
   ]
  },
  {
   "cell_type": "code",
   "execution_count": null,
   "metadata": {},
   "outputs": [],
   "source": [
    "# Example: Creating new variables with dummies:\n",
    "data2 = pd.get_dummies(data, columns=[\"delivery\"])\n",
    "data2.head()"
   ]
  },
  {
   "cell_type": "code",
   "execution_count": null,
   "metadata": {},
   "outputs": [],
   "source": [
    "# Example: Creating a least squares model with scikit-learn:\n",
    "from sklearn.linear_model import LinearRegression\n",
    "\n",
    "model = LinearRegression(fit_intercept=True)  # Set ut the model\n",
    "model.fit(X, y)  # Fit it using X and y, note there that:\n",
    "# X should contain all the columns you are interested in, but not a column of ones.\n",
    "# The constant is take care of automatically with fit_intercept=True.\n",
    "y_hat = model.predict(X)  # Use the model for calculating something (y from X).\n",
    "r2 = r2_score(y, y_hat)"
   ]
  },
  {
   "cell_type": "code",
   "execution_count": null,
   "metadata": {},
   "outputs": [],
   "source": [
    "import statsmodels.api as sm\n",
    "from statsmodels.formula.api import ols\n",
    "\n",
    "model_two = ols(\n",
    "    \"length ~ C(dose) + C(delivery) + C(dose):C(delivery)\", data=data\n",
    ").fit()\n",
    "table_two = sm.stats.anova_lm(model_two, typ=2)\n",
    "table_two"
   ]
  },
  {
   "cell_type": "markdown",
   "metadata": {},
   "source": [
    "### Answer to question 3.1(c):\n",
    "*Double click here*"
   ]
  },
  {
   "cell_type": "markdown",
   "metadata": {},
   "source": [
    "## Exercise 3.2\n",
    "\n",
    "Assume that we have recorded data as shown in Fig. 1.\n",
    "\n",
    "<figure>\n",
    "<img src=\"Figures/Fig_3_1.png\" width=\"50%\">\n",
    "    <figcaption> <p style='text-align: center;'><b>Figure 1: </b>Points for Exercise 3.2.</p> </figcaption>\n",
    "</figure>\n",
    "\n",
    "To model this data (i.e. $y$ as a function of $x$), we suggest a third-order polynomial in $x$:\n",
    "\n",
    "\\begin{equation}\n",
    "y = b_0 + b_1 x + b_2 x^2 + b_3 x^3 .\n",
    "\\end{equation}\n",
    "\n",
    "Explain how you can formulate this on a form suitable for least-squares regression,\n",
    "$\\mathbf{y} = \\mathbf{X} \\mathbf{b}$:\n",
    "\n",
    "- (a) What do the vectors $\\mathbf{y}$ and $\\mathbf{b}$ contain?\n",
    "- (b) What does the matrix $\\mathbf{X}$ contain?"
   ]
  },
  {
   "cell_type": "markdown",
   "metadata": {},
   "source": [
    "### Answer to question 3.2:\n",
    "*Double click here*"
   ]
  },
  {
   "cell_type": "markdown",
   "metadata": {},
   "source": [
    "## Exercise 3.3\n",
    "\n",
    "The temperature (°C) is measured continuously over time at a high altitude\n",
    "in the atmosphere using a\n",
    "weather balloon. Every hour a measurement is made and sent to an onboard computer.\n",
    "The measurements are \n",
    "shown in Fig. 2 and can be found in [the data file](Data/temperature.txt) (located at 'Data/temperature.txt').\n",
    "\n",
    "<figure>\n",
    "<img src=\"Figures/Fig_3_2.png\" width=\"50%\">\n",
    "<figcaption><p style='text-align: center;'><b>Fig. 2:</b> Measured temperature as a function of time.</p></figcaption> \n",
    "</figure>"
   ]
  },
  {
   "cell_type": "markdown",
   "metadata": {},
   "source": [
    "### 3.3(a)\n",
    "Create a Python script that performs polynomial fitting to the data using a first-, second-,\n",
    "third-, fourth-, and fifth-order polynomial model. Plot the fitted curves for the five models\n",
    "together with the raw data."
   ]
  },
  {
   "cell_type": "code",
   "execution_count": null,
   "metadata": {},
   "outputs": [],
   "source": [
    "# Here is some code to get you started:\n",
    "from matplotlib import pyplot as plt\n",
    "import numpy as np\n",
    "import pandas as pd\n",
    "import seaborn as sns\n",
    "\n",
    "sns.set_theme(style=\"ticks\", context=\"notebook\", palette=\"colorblind\")\n",
    "\n",
    "# Load the data\n",
    "data = pd.read_csv(\"Data/temperature.txt\", sep=\"\\s+\")\n",
    "data.head()"
   ]
  },
  {
   "cell_type": "code",
   "execution_count": null,
   "metadata": {},
   "outputs": [],
   "source": [
    "# Select the x and y values\n",
    "xdata = data[\"hour\"]\n",
    "ydata = data[\"yobs\"]\n",
    "# Fit a 5th order polynomial:\n",
    "p = np.polyfit(xdata, ydata, deg=5)\n",
    "y_hat = np.polyval(p, xdata)"
   ]
  },
  {
   "cell_type": "markdown",
   "metadata": {},
   "source": [
    "### 3.3(b)\n",
    "Plot the residual curves for the five models and determine,\n",
    "from a visual inspection, the best polynomial order to use for modeling the\n",
    "temperature as a function of time."
   ]
  },
  {
   "cell_type": "code",
   "execution_count": null,
   "metadata": {
    "scrolled": false
   },
   "outputs": [],
   "source": [
    "# Your code here"
   ]
  },
  {
   "cell_type": "markdown",
   "metadata": {},
   "source": [
    "### Answer to question 3.3(b)\n",
    "*Double click here*"
   ]
  },
  {
   "cell_type": "markdown",
   "metadata": {},
   "source": [
    "### 3.3(c)\n",
    "Obtain the sum of squared residuals for each polynomial and plot this as a function of the\n",
    "polynomial degree. Use this plot to determine (from visual inspection) the best polynomial\n",
    "order for modeling the temperature as a function of time. Does this agree with your\n",
    "conclusion in point [(b)](#3.3(b))?"
   ]
  },
  {
   "cell_type": "code",
   "execution_count": null,
   "metadata": {},
   "outputs": [],
   "source": [
    "# Your code here"
   ]
  },
  {
   "cell_type": "markdown",
   "metadata": {},
   "source": [
    "### Answer to question 3.3(c)\n",
    "*Double click here*"
   ]
  },
  {
   "cell_type": "markdown",
   "metadata": {},
   "source": [
    "## Appendix: Categorical variables\n",
    "The delivery in exercise [3.1](#Exercise-3.1)\n",
    "is a categorical variable (it is either W or O).\n",
    "To include it in a model,\n",
    "we first have to convert the categories to numerical values to do math with them.\n",
    "Let us first think of\n",
    "a more general case with $N$ categories.\n",
    "It could be tempting to represent each category with a number, $1$, $2$, $3$, and so on, but this\n",
    "is not a good idea. A numeric representation like that introduces\n",
    "an artificial ordering: e.g., $5$ is a larger number than $1$, but that does not make sense for categories!\n",
    "\n",
    "One way to fix this and include\n",
    "categorical variables is\n",
    "to use [dummy variables](https://en.wikipedia.org/wiki/Dummy_variable_(statistics)).\n",
    "(And another way is [one-hot encoding](https://en.wikipedia.org/wiki/One-hot))\n",
    "\n",
    "With dummy variables, we add more variables that can take values 0 or 1 for `off`/`on`.\n",
    "If we have\n",
    "$N$ categories, we need $N-1$ dummy variables to represent the categories.\n",
    "We can then include the \"presence\" of the categories without adding an order.\n",
    "Since this is a standard operation, there is an automatic method to do this in\n",
    "pandas: [pandas.get_dummies()](https://pandas.pydata.org/docs/reference/api/pandas.get_dummies.html)."
   ]
  }
 ],
 "metadata": {
  "kernelspec": {
   "display_name": "Python 3 (ipykernel)",
   "language": "python",
   "name": "python3"
  },
  "language_info": {
   "codemirror_mode": {
    "name": "ipython",
    "version": 3
   },
   "file_extension": ".py",
   "mimetype": "text/x-python",
   "name": "python",
   "nbconvert_exporter": "python",
   "pygments_lexer": "ipython3",
   "version": "3.12.2"
  }
 },
 "nbformat": 4,
 "nbformat_minor": 2
}
