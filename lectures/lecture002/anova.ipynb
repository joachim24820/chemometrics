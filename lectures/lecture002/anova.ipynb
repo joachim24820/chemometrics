{
 "cells": [
  {
   "cell_type": "markdown",
   "id": "2506f015",
   "metadata": {},
   "source": [
    "# ANOVA - example\n",
    "\n",
    "We have investigated the moisture content in 5 different types of concrete. Specifically, we are checking if there is a difference in the moisture content in the different types of concrete.\n",
    "\n",
    "We exposed the samples to moisture for 48 hours before we measured the moisture content. For each concrete type, we\n",
    "repeated the experiment 6 times.\n",
    "\n",
    "We will use ANOVA to test the hypothesis that there is no difference between the different samples.\n",
    "\n",
    "The file [concrete.txt](concrete.txt) contains the experimental data."
   ]
  },
  {
   "cell_type": "code",
   "execution_count": 1,
   "id": "96a01613",
   "metadata": {},
   "outputs": [
    {
     "name": "stderr",
     "output_type": "stream",
     "text": [
      "C:\\Users\\joach\\AppData\\Local\\Temp\\ipykernel_7312\\907699395.py:2: DeprecationWarning: \n",
      "Pyarrow will become a required dependency of pandas in the next major release of pandas (pandas 3.0),\n",
      "(to allow more performant data types, such as the Arrow string type, and better interoperability with other libraries)\n",
      "but was not found to be installed on your system.\n",
      "If this would cause problems for you,\n",
      "please provide us feedback at https://github.com/pandas-dev/pandas/issues/54466\n",
      "        \n",
      "  import pandas as pd  # For loading the data\n"
     ]
    }
   ],
   "source": [
    "# Set up imports:\n",
    "import pandas as pd  # For loading the data\n",
    "import numpy as np  # For calculating means and standard deviations\n",
    "from matplotlib import pyplot as plt  # For plotting\n",
    "import seaborn as sns  # For plotting\n",
    "import scipy.stats  # For doing some statistics\n",
    "\n",
    "sns.set_context(\"notebook\")  # Use a style for notebooks\n",
    "# Make figures interactive:\n",
    "%matplotlib inline"
   ]
  },
  {
   "cell_type": "code",
   "execution_count": 2,
   "id": "c0fc1a65",
   "metadata": {},
   "outputs": [
    {
     "data": {
      "text/html": [
       "<div>\n",
       "<style scoped>\n",
       "    .dataframe tbody tr th:only-of-type {\n",
       "        vertical-align: middle;\n",
       "    }\n",
       "\n",
       "    .dataframe tbody tr th {\n",
       "        vertical-align: top;\n",
       "    }\n",
       "\n",
       "    .dataframe thead th {\n",
       "        text-align: right;\n",
       "    }\n",
       "</style>\n",
       "<table border=\"1\" class=\"dataframe\">\n",
       "  <thead>\n",
       "    <tr style=\"text-align: right;\">\n",
       "      <th></th>\n",
       "      <th>Concrete 1</th>\n",
       "      <th>Concrete 2</th>\n",
       "      <th>Concrete 3</th>\n",
       "      <th>Concrete 4</th>\n",
       "      <th>Concrete 5</th>\n",
       "    </tr>\n",
       "  </thead>\n",
       "  <tbody>\n",
       "    <tr>\n",
       "      <th>0</th>\n",
       "      <td>551</td>\n",
       "      <td>595</td>\n",
       "      <td>639</td>\n",
       "      <td>417</td>\n",
       "      <td>563</td>\n",
       "    </tr>\n",
       "    <tr>\n",
       "      <th>1</th>\n",
       "      <td>457</td>\n",
       "      <td>580</td>\n",
       "      <td>615</td>\n",
       "      <td>449</td>\n",
       "      <td>631</td>\n",
       "    </tr>\n",
       "    <tr>\n",
       "      <th>2</th>\n",
       "      <td>450</td>\n",
       "      <td>508</td>\n",
       "      <td>511</td>\n",
       "      <td>517</td>\n",
       "      <td>522</td>\n",
       "    </tr>\n",
       "    <tr>\n",
       "      <th>3</th>\n",
       "      <td>731</td>\n",
       "      <td>583</td>\n",
       "      <td>573</td>\n",
       "      <td>438</td>\n",
       "      <td>613</td>\n",
       "    </tr>\n",
       "    <tr>\n",
       "      <th>4</th>\n",
       "      <td>499</td>\n",
       "      <td>633</td>\n",
       "      <td>648</td>\n",
       "      <td>415</td>\n",
       "      <td>656</td>\n",
       "    </tr>\n",
       "    <tr>\n",
       "      <th>5</th>\n",
       "      <td>632</td>\n",
       "      <td>517</td>\n",
       "      <td>677</td>\n",
       "      <td>555</td>\n",
       "      <td>679</td>\n",
       "    </tr>\n",
       "  </tbody>\n",
       "</table>\n",
       "</div>"
      ],
      "text/plain": [
       "   Concrete 1  Concrete 2  Concrete 3  Concrete 4  Concrete 5\n",
       "0         551         595         639         417         563\n",
       "1         457         580         615         449         631\n",
       "2         450         508         511         517         522\n",
       "3         731         583         573         438         613\n",
       "4         499         633         648         415         656\n",
       "5         632         517         677         555         679"
      ]
     },
     "execution_count": 2,
     "metadata": {},
     "output_type": "execute_result"
    }
   ],
   "source": [
    "# Load the data and display it:\n",
    "data = pd.read_csv(\"concrete.txt\")\n",
    "data"
   ]
  },
  {
   "cell_type": "code",
   "execution_count": 3,
   "id": "17f1575e",
   "metadata": {},
   "outputs": [
    {
     "data": {
      "text/html": [
       "<div>\n",
       "<style scoped>\n",
       "    .dataframe tbody tr th:only-of-type {\n",
       "        vertical-align: middle;\n",
       "    }\n",
       "\n",
       "    .dataframe tbody tr th {\n",
       "        vertical-align: top;\n",
       "    }\n",
       "\n",
       "    .dataframe thead th {\n",
       "        text-align: right;\n",
       "    }\n",
       "</style>\n",
       "<table border=\"1\" class=\"dataframe\">\n",
       "  <thead>\n",
       "    <tr style=\"text-align: right;\">\n",
       "      <th></th>\n",
       "      <th>Concrete 1</th>\n",
       "      <th>Concrete 2</th>\n",
       "      <th>Concrete 3</th>\n",
       "      <th>Concrete 4</th>\n",
       "      <th>Concrete 5</th>\n",
       "    </tr>\n",
       "  </thead>\n",
       "  <tbody>\n",
       "    <tr>\n",
       "      <th>count</th>\n",
       "      <td>6.000000</td>\n",
       "      <td>6.000000</td>\n",
       "      <td>6.000000</td>\n",
       "      <td>6.000000</td>\n",
       "      <td>6.000000</td>\n",
       "    </tr>\n",
       "    <tr>\n",
       "      <th>mean</th>\n",
       "      <td>553.333333</td>\n",
       "      <td>569.333333</td>\n",
       "      <td>610.500000</td>\n",
       "      <td>465.166667</td>\n",
       "      <td>610.666667</td>\n",
       "    </tr>\n",
       "    <tr>\n",
       "      <th>std</th>\n",
       "      <td>110.153832</td>\n",
       "      <td>47.986109</td>\n",
       "      <td>59.945809</td>\n",
       "      <td>57.607002</td>\n",
       "      <td>58.783218</td>\n",
       "    </tr>\n",
       "    <tr>\n",
       "      <th>min</th>\n",
       "      <td>450.000000</td>\n",
       "      <td>508.000000</td>\n",
       "      <td>511.000000</td>\n",
       "      <td>415.000000</td>\n",
       "      <td>522.000000</td>\n",
       "    </tr>\n",
       "    <tr>\n",
       "      <th>25%</th>\n",
       "      <td>467.500000</td>\n",
       "      <td>532.750000</td>\n",
       "      <td>583.500000</td>\n",
       "      <td>422.250000</td>\n",
       "      <td>575.500000</td>\n",
       "    </tr>\n",
       "    <tr>\n",
       "      <th>50%</th>\n",
       "      <td>525.000000</td>\n",
       "      <td>581.500000</td>\n",
       "      <td>627.000000</td>\n",
       "      <td>443.500000</td>\n",
       "      <td>622.000000</td>\n",
       "    </tr>\n",
       "    <tr>\n",
       "      <th>75%</th>\n",
       "      <td>611.750000</td>\n",
       "      <td>592.000000</td>\n",
       "      <td>645.750000</td>\n",
       "      <td>500.000000</td>\n",
       "      <td>649.750000</td>\n",
       "    </tr>\n",
       "    <tr>\n",
       "      <th>max</th>\n",
       "      <td>731.000000</td>\n",
       "      <td>633.000000</td>\n",
       "      <td>677.000000</td>\n",
       "      <td>555.000000</td>\n",
       "      <td>679.000000</td>\n",
       "    </tr>\n",
       "  </tbody>\n",
       "</table>\n",
       "</div>"
      ],
      "text/plain": [
       "       Concrete 1  Concrete 2  Concrete 3  Concrete 4  Concrete 5\n",
       "count    6.000000    6.000000    6.000000    6.000000    6.000000\n",
       "mean   553.333333  569.333333  610.500000  465.166667  610.666667\n",
       "std    110.153832   47.986109   59.945809   57.607002   58.783218\n",
       "min    450.000000  508.000000  511.000000  415.000000  522.000000\n",
       "25%    467.500000  532.750000  583.500000  422.250000  575.500000\n",
       "50%    525.000000  581.500000  627.000000  443.500000  622.000000\n",
       "75%    611.750000  592.000000  645.750000  500.000000  649.750000\n",
       "max    731.000000  633.000000  677.000000  555.000000  679.000000"
      ]
     },
     "execution_count": 3,
     "metadata": {},
     "output_type": "execute_result"
    }
   ],
   "source": [
    "# Describe the data\n",
    "data.describe()"
   ]
  },
  {
   "cell_type": "markdown",
   "id": "3727aa0e",
   "metadata": {},
   "source": [
    "We note from the description above that the means for the different concrete types\n",
    "are different. We also note that the standard deviation is quite large for some of the types.\n",
    "Are the means different enough to say that there is a difference between the different types?\n",
    "\n",
    "Let us visually inspect the data:"
   ]
  },
  {
   "cell_type": "code",
   "execution_count": 4,
   "id": "001443f0",
   "metadata": {},
   "outputs": [],
   "source": [
    "data_X = data.to_numpy()  # Just get the numbers from the table"
   ]
  },
  {
   "cell_type": "code",
   "execution_count": 5,
   "id": "e5d23085",
   "metadata": {},
   "outputs": [
    {
     "data": {
      "image/png": "[encoded data removed]",
      "text/plain": [
       "<Figure size 640x480 with 1 Axes>"
      ]
     },
     "metadata": {},
     "output_type": "display_data"
    }
   ],
   "source": [
    "# Plot the different measurements:\n",
    "fig, ax = plt.subplots(constrained_layout=True)\n",
    "concrete = [1, 2, 3, 4, 5]\n",
    "for i, concretei in enumerate(concrete):\n",
    "    y = data_X[:, i]  # Get column i\n",
    "    x = [concretei] * len(y)  # Make x = [1, 1, 1,...] or [2, 2, 2, ...] etc.\n",
    "    ax.scatter(x, y)\n",
    "ax.set_title(\n",
    "    \"Measured moisture content in different concrete samples\", loc=\"left\"\n",
    ")\n",
    "ax.set(xlabel=\"Concrete type\", ylabel=\"Moisture content\")\n",
    "ax.set_xticks(concrete)\n",
    "sns.despine(fig=fig)"
   ]
  },
  {
   "cell_type": "code",
   "execution_count": 6,
   "id": "77d6de9a",
   "metadata": {},
   "outputs": [
    {
     "name": "stdout",
     "output_type": "stream",
     "text": [
      "[553.33333333 569.33333333 610.5        465.16666667 610.66666667]\n",
      "[110.15383183  47.9861091   59.94580886  57.60700189  58.78321756]\n"
     ]
    }
   ],
   "source": [
    "# Let us also show the means with the standard deviation\n",
    "means = np.mean(data_X, axis=0)  # Mean for columns\n",
    "print(means)\n",
    "std = np.std(data_X, axis=0, ddof=1)  # Standard devaition for columns\n",
    "print(std)"
   ]
  },
  {
   "cell_type": "code",
   "execution_count": 7,
   "id": "4a3d55a1",
   "metadata": {},
   "outputs": [
    {
     "data": {
      "image/png": "[encoded data removed]",
      "text/plain": [
       "<Figure size 640x480 with 1 Axes>"
      ]
     },
     "metadata": {},
     "output_type": "display_data"
    }
   ],
   "source": [
    "fig, ax = plt.subplots(constrained_layout=True)\n",
    "ax.errorbar(\n",
    "    concrete,\n",
    "    means,\n",
    "    yerr=std,\n",
    "    fmt=\"o\",\n",
    "    label=\"Mean\",\n",
    "    capsize=5,\n",
    "    capthick=2,\n",
    "    color=\"k\",\n",
    ")\n",
    "for i, concretei in enumerate(concrete):\n",
    "    y = data_X[:, i]  # Get column i\n",
    "    x = [concretei] * len(y)  # Make x = [1, 1, 1,...] or [2, 2, 2, ...] etc.\n",
    "    ax.scatter(x, y, marker=\"X\", alpha=0.5, label=f\"Measurements\")\n",
    "ax.set(xlabel=\"Concrete type\", ylabel=\"Moisture content\")\n",
    "ax.legend()\n",
    "ax.set_xticks(concrete)\n",
    "sns.despine(fig=fig)"
   ]
  },
  {
   "cell_type": "markdown",
   "id": "818d44e2",
   "metadata": {},
   "source": [
    "To use ANOVA, we calculate the different sum of squares:\n",
    "\n",
    "* The total sum of squares:\n",
    "  \\begin{equation}SST = \\sum_{i=1}^{n} \\sum_{j=1}^k (y_{ij} - \\overline{y})^2\\end{equation}\n",
    "\n",
    "* The treatment sum of squares:\n",
    "  \\begin{equation}SSA = n \\sum_{j=1}^k (\\overline{y}_{j} - \\overline{y})^2\\end{equation}\n",
    "  \n",
    "* The error sum of squares:\n",
    "  \\begin{equation} SSE = \\sum_{i=1}^n \\sum_{j=1}^k (y_{ij} - \\overline{y}_j)^2\\end{equation}\n",
    "\n",
    "For these different sums, wehave that: $SST = SSA + SSE$."
   ]
  },
  {
   "cell_type": "code",
   "execution_count": 8,
   "id": "c83b6f53",
   "metadata": {},
   "outputs": [
    {
     "name": "stdout",
     "output_type": "stream",
     "text": [
      "SST: 209376.80\n"
     ]
    }
   ],
   "source": [
    "# We calculate the different sums here, using loops:\n",
    "mean = np.mean(data_X)  # Mean of all the data\n",
    "n, k = data_X.shape  # Get number of rows and columns\n",
    "\n",
    "# First SST:\n",
    "SST = 0\n",
    "for i in range(n):\n",
    "    for j in range(k):\n",
    "        SST = SST + (data_X[i, j] - mean) ** 2\n",
    "\n",
    "\n",
    "print(f\"SST: {SST:.2f}\")"
   ]
  },
  {
   "cell_type": "code",
   "execution_count": 9,
   "id": "01ec3d5a",
   "metadata": {},
   "outputs": [
    {
     "name": "stdout",
     "output_type": "stream",
     "text": [
      "SSA: 85356.47\n"
     ]
    }
   ],
   "source": [
    "# Then SSA:\n",
    "SSA = 0\n",
    "for j in range(k):\n",
    "    mean_j = np.mean(data_X[:, j])  # mean of column j\n",
    "    SSA = SSA + n * (mean_j - mean) ** 2\n",
    "print(f\"SSA: {SSA:.2f}\")"
   ]
  },
  {
   "cell_type": "code",
   "execution_count": 10,
   "id": "e94c86e1",
   "metadata": {},
   "outputs": [
    {
     "name": "stdout",
     "output_type": "stream",
     "text": [
      "SSE: 124020.33\n"
     ]
    }
   ],
   "source": [
    "# Then SSE:\n",
    "SSE = 0\n",
    "for j in range(k):\n",
    "    mean_j = np.mean(data_X[:, j])  # mean of column j\n",
    "    for i in range(n):\n",
    "        SSE = SSE + (data_X[i, j] - mean_j) ** 2\n",
    "print(f\"SSE: {SSE:.2f}\")"
   ]
  },
  {
   "cell_type": "code",
   "execution_count": 11,
   "id": "4056b4a3",
   "metadata": {},
   "outputs": [
    {
     "name": "stdout",
     "output_type": "stream",
     "text": [
      "SSA + SSE: 209376.80\n",
      "      SST: 209376.80\n"
     ]
    }
   ],
   "source": [
    "print(f\"SSA + SSE: {SSA+SSE:.2f}\")\n",
    "print(f\"      SST: {SST:.2f}\")"
   ]
  },
  {
   "cell_type": "code",
   "execution_count": 12,
   "id": "b7d97da4",
   "metadata": {},
   "outputs": [
    {
     "name": "stdout",
     "output_type": "stream",
     "text": [
      "SST: 209376.80\n",
      "SSA: 85356.47\n",
      "SSE: 124020.33\n",
      "SSA + SSE: 209376.80\n"
     ]
    }
   ],
   "source": [
    "# Alternatively, we can use that NumPy knows how to\n",
    "# do operations on arrays:\n",
    "mean = np.mean(data_X)  # Mean of all the data\n",
    "mean_k = np.mean(data_X, axis=0)  # Mean for columns\n",
    "n, k = data_X.shape  # Get number of rows and columns\n",
    "SST = np.sum((data_X - mean) ** 2)\n",
    "SSA = n * np.sum((means - mean) ** 2)\n",
    "SSE = np.sum((data_X - means) ** 2)\n",
    "print(f\"SST: {SST:.2f}\")\n",
    "print(f\"SSA: {SSA:.2f}\")\n",
    "print(f\"SSE: {SSE:.2f}\")\n",
    "print(f\"SSA + SSE: {SSA+SSE:.2f}\")"
   ]
  },
  {
   "cell_type": "markdown",
   "id": "817217a5",
   "metadata": {},
   "source": [
    "Next, we estimate the variance in two ways:\n",
    "\n",
    "\\begin{equation*}\n",
    "    s_1^2 = \\frac{SSA}{k - 1} \\quad (k - 1 \\text{ degrees of freedom})\n",
    "\\end{equation*}\n",
    "\n",
    "and\n",
    "\n",
    "\\begin{equation*}\n",
    "    s^2 = \\frac{SSE}{k(n-1)} \\quad (k(n - 1) \\text{ degrees of freedom})\n",
    "\\end{equation*}\n",
    "\n",
    "and we calculate the $f$-statistic: $f = s_1^2/s^2$."
   ]
  },
  {
   "cell_type": "code",
   "execution_count": 13,
   "id": "67d567fd",
   "metadata": {},
   "outputs": [
    {
     "name": "stdout",
     "output_type": "stream",
     "text": [
      "s1 = 21339.116666666654, s = 4960.8133333333335, f = s1/s = 4.30153590405874\n"
     ]
    }
   ],
   "source": [
    "# Estimate the variance using the first formula:\n",
    "dof_1 = k - 1  # degrees of freedom\n",
    "s1 = SSA / dof_1\n",
    "\n",
    "# Estimate the variance using the second formula:\n",
    "dof_2 = k * (n - 1)  # degrees of freedom\n",
    "s = SSE / dof_2\n",
    "\n",
    "# Also calculate the f-statistic:\n",
    "f = s1 / s\n",
    "print(f\"s1 = {s1}, s = {s}, f = s1/s = {f}\")"
   ]
  },
  {
   "cell_type": "markdown",
   "id": "3683ca41",
   "metadata": {},
   "source": [
    "We reject the hypothesis that all the concrete types have the same mean at a significance level of $\\alpha$ if\n",
    "\n",
    "   \\begin{equation*}\n",
    "   f > f_{\\alpha}(k-1, k(n-1)).\n",
    "   \\end{equation*}\n",
    "\n",
    "Thus we need to look up the $f_{\\alpha}(k-1, k(n-1))$ value in our case. This can be done with a [table](https://www.itl.nist.gov/div898/handbook/eda/section3/eda3673.htm), or using\n",
    "the method [scipy.stats.f.ppf](https://docs.scipy.org/doc/scipy/reference/generated/scipy.stats.f.html) from scipy."
   ]
  },
  {
   "cell_type": "code",
   "execution_count": 14,
   "id": "569e5364",
   "metadata": {},
   "outputs": [
    {
     "name": "stdout",
     "output_type": "stream",
     "text": [
      "f_critical(4, 25) = 2.759\n"
     ]
    }
   ],
   "source": [
    "alpha = 0.05\n",
    "f_critical = scipy.stats.f.ppf(1 - alpha, dof_1, dof_2)\n",
    "print(f\"f_critical({dof_1}, {dof_2}) = {f_critical:.4g}\")"
   ]
  },
  {
   "cell_type": "code",
   "execution_count": 15,
   "id": "a16fd37d",
   "metadata": {},
   "outputs": [
    {
     "name": "stdout",
     "output_type": "stream",
     "text": [
      "Checking if f > f_critical: True\n",
      "=> We reject the hypothesis - the means are different!\n"
     ]
    }
   ],
   "source": [
    "print(f\"Checking if f > f_critical: {f > f_critical}\")\n",
    "if f > f_critical:\n",
    "    print(\"=> We reject the hypothesis - the means are different!\")\n",
    "else:\n",
    "    print(\"=> We do not reject the hypothesis - the means are not different!\")"
   ]
  },
  {
   "cell_type": "markdown",
   "id": "be7b9372",
   "metadata": {},
   "source": [
    "We can also calculate at what $\\alpha$ we would reject the hypothesis: "
   ]
  },
  {
   "cell_type": "code",
   "execution_count": 16,
   "id": "14d8e7a9",
   "metadata": {},
   "outputs": [
    {
     "name": "stdout",
     "output_type": "stream",
     "text": [
      "We would reject for α < 0.00875\n",
      "For α = 0.00875: f_critical(4, 25) = 4.302\n"
     ]
    }
   ],
   "source": [
    "pval = 1 - scipy.stats.f.cdf(f, dof_1, dof_2)\n",
    "f_critical2 = scipy.stats.f.ppf(1 - pval, dof_1, dof_2)\n",
    "print(f\"We would reject for α < {pval:.3g}\")\n",
    "print(f\"For α = {pval:.3g}: f_critical({dof_1}, {dof_2}) = {f_critical2:.4g}\")"
   ]
  }
 ],
 "metadata": {
  "kernelspec": {
   "display_name": "Python 3 (ipykernel)",
   "language": "python",
   "name": "python3"
  },
  "language_info": {
   "codemirror_mode": {
    "name": "ipython",
    "version": 3
   },
   "file_extension": ".py",
   "mimetype": "text/x-python",
   "name": "python",
   "nbconvert_exporter": "python",
   "pygments_lexer": "ipython3",
   "version": "3.12.2"
  }
 },
 "nbformat": 4,
 "nbformat_minor": 5
}
